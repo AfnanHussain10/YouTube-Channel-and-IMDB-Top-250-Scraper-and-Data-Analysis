{
  "cells": [
    {
      "cell_type": "code",
      "execution_count": null,
      "id": "IQTyIZr_SM8E",
      "metadata": {
        "id": "IQTyIZr_SM8E"
      },
      "outputs": [],
      "source": [
        "!pip install selenium"
      ]
    },
    {
      "cell_type": "code",
      "execution_count": null,
      "id": "3dd091cc-c107-4e4c-a79b-42b8d3fc3146",
      "metadata": {
        "id": "3dd091cc-c107-4e4c-a79b-42b8d3fc3146"
      },
      "outputs": [],
      "source": [
        "import requests\n",
        "from bs4 import BeautifulSoup\n",
        "import time\n",
        "import pandas as pd\n",
        "import numpy as np\n",
        "import datetime\n",
        "import os\n",
        "from selenium.webdriver.common.by import By\n",
        "from selenium import webdriver\n",
        "from selenium.webdriver.chrome.service import Service\n",
        "from selenium.webdriver.chrome.options import Options"
      ]
    },
    {
      "cell_type": "markdown",
      "id": "lVtId6e8S3h-",
      "metadata": {
        "id": "lVtId6e8S3h-"
      },
      "source": [
        "# **Youtube Channel: Unfold Data Science Web Scraping**"
      ]
    },
    {
      "cell_type": "code",
      "execution_count": null,
      "id": "8b16475a-5585-4efb-b794-c3b7642b2272",
      "metadata": {
        "id": "8b16475a-5585-4efb-b794-c3b7642b2272"
      },
      "outputs": [],
      "source": [
        "Driver_path = \"D:\\\\Downloads\\\\chromedriver.exe\"\n",
        "service = Service(Driver_path)\n",
        "driver = webdriver.Chrome(service=service)"
      ]
    },
    {
      "cell_type": "code",
      "execution_count": null,
      "id": "a8a062f0-e3f6-4368-b0e9-d5234688dcb2",
      "metadata": {
        "id": "a8a062f0-e3f6-4368-b0e9-d5234688dcb2"
      },
      "outputs": [],
      "source": [
        "urlPath = 'https://www.youtube.com/@UnfoldDataScience/videos'"
      ]
    },
    {
      "cell_type": "code",
      "execution_count": null,
      "id": "593545a4-e56e-4a80-ab6f-05990bf24b68",
      "metadata": {
        "id": "593545a4-e56e-4a80-ab6f-05990bf24b68"
      },
      "outputs": [],
      "source": [
        "driver.get(urlPath)"
      ]
    },
    {
      "cell_type": "code",
      "execution_count": null,
      "id": "d1879f06-40f6-4e99-8cbe-b53abfb01c51",
      "metadata": {
        "id": "d1879f06-40f6-4e99-8cbe-b53abfb01c51",
        "outputId": "a6a05638-79fc-463b-a224-1d0062e35a53"
      },
      "outputs": [
        {
          "name": "stdout",
          "output_type": "stream",
          "text": [
            "2680\n",
            "4482\n",
            "6542\n",
            "8343\n",
            "10403\n",
            "12206\n",
            "14265\n",
            "16067\n",
            "18126\n",
            "19929\n",
            "21988\n",
            "23790\n",
            "25850\n",
            "27078\n"
          ]
        }
      ],
      "source": [
        "while True:\n",
        "    height = driver.execute_script(\"return document.documentElement.scrollHeight\")\n",
        "    print(height)\n",
        "    driver.execute_script(\"window.scrollTo(0,document.documentElement.scrollHeight)\")\n",
        "    time.sleep(4)\n",
        "    h2 = driver.execute_script(\"return document.documentElement.scrollHeight\")\n",
        "\n",
        "    if height == h2:\n",
        "        break"
      ]
    },
    {
      "cell_type": "code",
      "execution_count": null,
      "id": "0a7497b3-5fc9-4f21-beae-77231d0184a9",
      "metadata": {
        "id": "0a7497b3-5fc9-4f21-beae-77231d0184a9"
      },
      "outputs": [],
      "source": [
        "from selenium.webdriver.common.by import By\n",
        "videos = driver.find_elements(By.CLASS_NAME, \"style-scope ytd-grid-video-renderer\")"
      ]
    },
    {
      "cell_type": "code",
      "execution_count": null,
      "id": "df82c33a-7495-473a-aaf3-89fbb13d1341",
      "metadata": {
        "id": "df82c33a-7495-473a-aaf3-89fbb13d1341"
      },
      "outputs": [],
      "source": [
        "titles = [element.text for element in driver.find_elements(By.XPATH, './/*[@id=\"video-title\"]')]"
      ]
    },
    {
      "cell_type": "code",
      "execution_count": null,
      "id": "6d0cf2b7-fb40-43a8-a1cb-5c0b6a290936",
      "metadata": {
        "id": "6d0cf2b7-fb40-43a8-a1cb-5c0b6a290936",
        "outputId": "1fed78ec-ebf4-4b4a-c8d6-60b61bd9c333"
      },
      "outputs": [
        {
          "name": "stdout",
          "output_type": "stream",
          "text": [
            "Simplifying Confidence Intervals | confidence intervals | confidence intervals explained\n",
            "Cost of Living in London | data scientist salary in London | Expenses in UK |Monthly expenses London\n",
            "6 Activation functions for deep learning | activation function in deep learning|Activation functions\n",
            "5 python packages to wow your client | Python hidden packages for data science | python data science\n",
            "Junior data scientist to Senior Data Scientist | How to become senior data scientist\n",
            "Encode decoder seq 2 seq architecture| encoder decoder model | encoder decoder neural network\n",
            "Participate and learn more | data science learning path for free | Learn machine learning free\n",
            "How to Pass AWS ML specialty exam | AWS machine learning specialty exam | AWS certification\n",
            "LSTM next word prediction in Python | LSTM python TensorFlow | LSTM python Keras | LSTM python\n",
            "LSTM explained simply | LSTM explained | LSTM explained with example.\n",
            "Types and Problems of RNN | RNN Deep learning | RNN in machine learning | RNN architecture\n",
            "Complete guide to outliers| how to work with outliers | Finding an outlier in dataset using python,\n",
            "How Dangerous is AI | AI Dangers to Humanity| AI Dangerous Debate |artificial intelligence dangerous\n",
            "Lets Unfold RNN| Recurrent neural network explained | Recurrent neural network complete tutorial\n",
            "NLP history up to RNN| Natural language processing in artificial intelligence | NLP course\n",
            "Generative AI for beginners| What is generative AI | What is generative AI for dummies\n",
            "What does a business analyst do? | Business analyst interview questions and answers | BA\n",
            "Is Data Science a Good Career | is data science hard | is data science worth it\n",
            "How to think and do model deployment | ml model deployment aws sagemaker | model deployment aws\n",
            "Data Science interview prep in hurry burry | data science interview preparation | data science\n",
            "How to get a job through LinkedIn | linkedin job search tips | Data science jobs\n",
            "How to think feature engineering | feature engineering tutorial | feature engineering explained\n",
            "Airflow tutorial for beginners | Airflow tutorial python | Airflow tutorial 1\n",
            "5 mistakes to avoid in Job hunting | fresher data science job | machine learning fresher job\n",
            "How to choose charts for data story | data storytelling with charts | data storytelling presentation\n",
            "Data Preparation tools in AWS | AWS Athena and AWS Glue | Preparing ML data in AWS\n",
            "Think data like data scientist | Data Scientist mindset about data | Data Scientist job\n",
            "Why Unfold data science | Why to learn from Unfold Data Science | Unfold data science YouTube\n",
            "How to write window function in SQL | window function in SQL | window function SQL example\n",
            "Bard Vs Chat GPT | Bard google ai | Bard google demo | bard google vs chat gpt | bard google link\n",
            "AWS lambda for beginners | AWS lambda tutorial | AWS lambda python | AWS lambda interview questions\n",
            "Deploy ML model quickly and easily | Deploying machine learning models quickly and easily\n",
            "EC2 security groups and boot scripts | ec2 boot scripts | ec2 instance connect | ec2 ssh\n",
            "Why should we hire you | why should we hire you best answer | why should we hire you answer\n",
            "Bernoulli vs Binomial distribution | bernoulli vs binomial | bernoulli distribution vs binomial\n",
            "3 ways to work with AWS | aws console vs SDK vs CLI | aws sdk python | aws cli vs sdk\n",
            "How I cleared AWS CCP in 10 days | AWS cloud practitioner exam questions\n",
            "Worst way to explain your project | project explanation in interview | project explanation\n",
            "AWS Sagemaker Canvas Demo | Sagemaker Canvas tutorial | Sagemaker Canvas workshop\n",
            "Build train and deploy model in sagemaker | sagemaker tutorial | sagemaker pipeline\n",
            "Research code Vs Production Code | Machine Learning production code\n",
            "Less code more analysis | Python data analysis case study | Python data analysis made easy\n",
            "How to find your expected salary | Data Scientist Salary in India | Data Scientist salary in USA\n",
            "5 ways to remove fresher tag | Data Science fresher jobs | How to get the first job in data science.\n",
            "Increase productivity 10x using ChatGPT | What ChatGPT can do | ChatGPT use for programmers.\n",
            "5 ways to generate synthetic data | Synthetic data generation machine learning | Synthetic data\n",
            "How to use OPENAI Api in Python | ChatGPT Api python | chat gpt aip example\n",
            "These AI trends will impact you | AI trends to watch out for as data scientist\n",
            "10 excel data analysis tips | excel data analysis | excel data analysis tutorial\n",
            "15 minutes introduction to machine learning | Introduction to machine learning | What is ML\n",
            "5 strong questions to ask to interviewer | questions for interviewer | Data Science Interview\n",
            "Naive Bayes Step by Step | Naive bayes classifier example | naive bayes classifier in python\n",
            "ChatGPT responses are useless | chatgpt example | chatgpt how to use | chatgpt for programming\n",
            "Build your first API in 10 minutes | API tutorial | FastAPI tutorial | Build API from scratch\n",
            "Why ROC and AUC is needed | ROC curve analysis | ROC curve analysis in python\n",
            "10 ML algorithms in 45 minutes | machine learning algorithms for data science | machine learning\n",
            "How many records in JOIN output | Number of Records after 4 types of JOINs\n",
            "AWS sagemaker introduction | AWS sagemaker tutorial | AWS sagemaker tutorial for beginners\n",
            "AWS CLI tutorial | AWS cli tutorial on windows | AWS cli installastion on windows | AWS cli login\n",
            "fit vs transform vs fit_transform | fit vs fit_transform | fit and fit_transofrm in sklearn\n",
            "Application deployment in AWS Step by Step | AWS deployment tutorial | AWS deployment strategies\n",
            "Python crash course for data science| Python for beginners | Python for data scientist\n",
            "Never fail in background check| Background verification companies process | Background verification\n",
            "AWS for data science - EC2 Instance| AWS EC2 instance | Aws EC2 tutorial | AWS EC2 instance creation\n",
            "Aws Storage for Data science Basics | Aws cloud computing storage for beginners | aws tutorial\n",
            "Aws for Data science Basics | Aws cloud computing for beginners | aws tutorial\n",
            "Why N minus 1 in sample variance | why n-1 in standard deviation | Bessels Correction\n",
            "How to get first job in recession | Getting Job In Recession | How to get job in recession\n",
            "Top 9 SQL interview questions and answers | Top 9 SQL queries for interview | SQL Tutorial\n",
            "SQL for everyone in 45 minutes | Learn SQL for Data Analysis in one hour (sample dataset use case)\n",
            "5 ways edtechs trap you in | how data science edtech companies are scamming you | truth of edtechs\n",
            "Free session on How to in Data Science | How to become a data scientist with no experience\n",
            "System Design Interview Questions Part 2 | System design for data science | machine learning system\n",
            "How to answer system design questions | System design for data science | machine learning system\n",
            "5 Reasons to Learn Data Science | Why learn data science | Learn Data Science\n",
            "Harsh Reality of Data Science | The Harsh Reality of Being a Data Scientist | What No one is telling\n",
            "How to make your project stand out | Data Science project ideas for final year | ML project ideas\n",
            "Dockers vs Virtual Machines | Dockers vs Containers vs Virtual machines | Dockers and Containers\n",
            "10 tips to survive first data science job | How to get first data science job | Data Science job\n",
            "9 Interview Questions on your project | Data Science Project Interviews\n",
            "Do not think like fresher data scientist | How to become a good Data Scientist\n",
            "Don't Learn Data Science Wrong Way | How to learn data science from scratch | Data Science Course\n",
            "How to manage machine learning projects | Machine learning project from scratch\n",
            "5 Growth Tips for First Job | first job advice | tips for starting a new job\n",
            "Data Science Vs Software Engineering | |How to choose between software engineering and data science\n",
            "Unfold Data Science Course Coupons | Data Science Course for beginners | Data Science Course for all\n",
            "Data Science Zero to Hero English and Hindi Courses | Data Science Course for beginners\n",
            "Data Science Jobs in India vs UK | Data Science job in UK | Data Science jobs for freshers\n",
            "Data Science Mock Interview with Mani | Data Science Interview question and answer\n",
            "Do not transition to data science | Why not to transition to data science\n",
            "Support vector machine in machine learning | Support vector machine python | SVM parameter tuning\n",
            "9 Interview questions on K Means clustering | Data Science Interview Questions and answers\n",
            "Understanding Googles Sentient Chatbot | Google's sentient AI conversation | sentient ai chatbot\n",
            "Boosting Interview Questions | Ensemble learning Interview question | Data Science interview\n",
            "Framework to get first Data Science Job | How to get first Data Science Job\n",
            "Data Science Interview Mock | Data Science Interview question for freshers\n",
            "7 Job Roles In Data Science | Job Roles of Data Science\n",
            "Data Science Interview Mock | Data Science Interview Questions | Data Science Interview Experience\n",
            "Why Data Science Projects Fail | Why Do Most Data Science Projects Fail?\n",
            "8 Random Forest Must to know interview questions | Random Forest Interview Questions\n",
            "7 Decision Tree FAQ answered in 8 minutes | Decision tree interview questions|Data science interview\n",
            "Data Science Discussion and Course announcement with Sudhanshu Ineuron #Ineuron #UnfoldDataScience\n",
            "5 common interview question on logistic regression | How to explain logistic regression in interview\n",
            "8 Deep Learning FAQ answered in 8 minutes | Deep Learning interview questions and answers\n",
            "10 Data Science FAQ answered in 10 minutes | Data Science FAQ for beginners\n",
            "5 ways to work with imbalanced data | Imbalanced dataset machine learning | Imbalanced data\n",
            "Three Pillars Of Web3.0 | web3.0 explained | web3.0 tutorial | Understanding web3.0\n",
            "Personalized Data Cleaning toolkit In Python | Data Cleaning Python |Data Cleaning In Data Analytics\n",
            "How to check assumptions of linear regression in Python | How to check linear regression assumptions\n",
            "Feature Selection Wrapper and Embedded techniques | Feature Selection Playlist\n",
            "Feature Selection techniques in Python | feature selection machine learning | machine learning tips\n",
            "Ride the salary wave before its over | Salary of data scientist in India | Salary of Data Analyst\n",
            "Missing value imputation application In Python | Python missing value imputation\n",
            "All about missing value imputation techniques | missing value imputation in machine learning\n",
            "How AI is making war worse | Destructive AI in war | Use AI for humanity not against it\n",
            "Linear discriminant analysis explained | LDA algorithm in python | LDA algorithm explained\n",
            "Model Drift In machine learning | Concept drift vs Data Drift in Machine Learning\n",
            "how big data and data science are related | Big data analytics | Big Data analytics explained\n",
            "Principal component analysis step by step | PCA explained step by step | PCA in statistics\n",
            "Amazing cash rewards and learning opportunity by SDS Bit Mesra | Data Science hackathon|\n",
            "CatBoost Vs XGBoost Vs LightGBM | Catboost Vs XGBoost | Lightgbm vs XGBoost vs CatBoost\n",
            "catboost explained | catboost algorithm explained | catboost vs lightgbm vs xgboost\n",
            "Metaverse explained simply | Metaverse explanation for all| What is metaverse | Metaverse Facebook\n",
            "LightGBM algorithm explained | Lightgbm vs xgboost | lightGBM regression| LightGBM model\n",
            "Python Debugger and timeit modules | python debugging tutorial\n",
            "Unfold Data Science Playlist Sequence | Unfold Data Science Playlist details | Unfold data science\n",
            "How to Start Coding | How to Start Coding for Beginners | How to start coding in Laptop\n",
            "Unfold Data Science Channel Intro | Unfold Data Science channel on YouTube\n",
            "Future Scope of Machine Learning | What is future scope of machine learning\n",
            "Adjusted R squared explained | Adjusted R squared explained with Python example\n",
            "How to Pass Final Round Job Interview | FINAL INTERVIEW TIPS! | Data Science Interview\n",
            "Complete Python Roadmap in 2022 for beginners | How to become an expert in python programming\n",
            "How much time do you need to learn data science from scratch | learn data science from scratch\n",
            "How to write generators in Python | generators in python | generators and iterators in python\n",
            "How to Present your content well | How to present a presentation | 5 Steps to a Killer Opener\n",
            "Auto ML Project Demo | Auto ML project demo by Rohan and Team\n",
            "Cheers to Unfold Data Science Family for an amazing year | Unfold data science in 2021\n",
            "What is your Learnings from this year | Learnings from 2021 | 2021 as a year for all\n",
            "Python Decorators Piece By Piece | Python Decorators in 15 Minutes | Functionality Of Your Functions\n",
            "Is Subscriber Count Important On YouTube | How Subscriber count is important metric for YouTube\n",
            "Machine Learning use cases for electric vehicles | Artificial intelligence examples in daily life\n",
            "Python class and Inheritance | Python OOP Tutorial : Inheritance - Creating Subclasses\n",
            "Python object oriented programming basics| Python Object Oriented Programming (OOP) - For Beginners\n",
            "Should I take Ineuron OTT Subscription | Lifetime Subscription Offer OneNeuron Platform Till Jan-15\n",
            "*args and **kwargs in python explained | *args and **kwargs in python | *args **kwargs python\n",
            "List Comprehension in python| List Comprehension || Python Tutorial || Learn Python Programming\n",
            "What is framework in Programming | What is framework in python | Framework in machine learning\n",
            "Data Science Skills for 2022 | Top 5 Data Science Skills for 2022 |How to get better in data science\n",
            "Why less videos on unfold data science | Channel updates and plan forward\n",
            "Know bigger picture of your data science project | How to become full stack data scientist\n",
            "Degrees Of Freedom Explained | What is Degrees of freedom | Degrees of freedom in statistics\n",
            "Using Kaggle API from local python | How to use Kaggle API from python | Using Kaggle API\n",
            "Top 10 Kaggle notebooks for Data Science | Best Kaggle Notebooks for Data Science and ML\n",
            "Earn Cash Rewards through iNeuron Projectathon | Hackathon with iNeuron\n",
            "Data Science Live Q and A with Sudhanshu from ineuron at Unfold Data Science\n",
            "Importance of MLops in machine learning | Introduction to MLOps | MLOps Tutorial for Begineers\n",
            "Data Science Use Case Brainstorming Improving User experience in Online Banking\n",
            "Data Science Mock Interview with Arvind | Data Science Freshers Mock Interview\n",
            "Machine Learning Use Cases In Ecommerce | Data Science Use cases in Ecommerce site\n",
            "Data Science Mock Interview for experienced candidate | Data Science Interview question and answer\n",
            "Basics Of Conversational AI System| Example of conversational AI | Conversational AI Chatbot\n",
            "Interview Questions On Feature Scaling | normalization vs standardization machine learning\n",
            "Machine Learning In Mechanical Engineering | Machine learning use cases in manufacturing\n",
            "How to work from home effectively | Work from Home Productivity Tips | How to Not Go Crazy\n",
            "How to reduce chances of rejection in Interview | How to get selected in interview\n",
            "Railway Engineer to Data Science Journey for Arpit | Data analysis in Railways\n",
            "Machine Learning Use Case by Industry | Machine learning use cases example | Machine learning\n",
            "Data Science Use Case Brainstorming - Matrimonial portal fraud detection | Data Science use case\n",
            "Machine Learning Model Deployment On Unix Part 3 | Machine learning Model Deployment\n",
            "Data Science Mock Interview Priyesh | Data Science Mock up Interview for Freshers\n",
            "Machine Learning Model Deployment On Unix Part 2 | Machine learning Model Deployment\n",
            "Mechanical Engineer to Data Scientist journey | First data science job searching experience sharing\n",
            "What is Global in House Center For Analytics | GIC for organizations\n",
            "Making python code parameterized| Command line arguments in python| python scripts with parameters\n",
            "Invitation for ML use cases Brainstorming | Data Science Business case explanation\n",
            "Machine Learning Model Deployment on Unix Part 1|Machine learning model deployment step by step\n",
            "Machine Learning Model Deployment Pointers | model deployment machine learning | model deployment\n",
            "Know these before your first Data Science Job Part 2 | Getting your first Data Science Job\n",
            "Know these before your first Data Science Job | Getting your first Data Science Job\n",
            "Data Science Internship with Microsoft and Amazon | Data Science Internship for Freshers\n",
            "NLP Hybrid Model Demo In Python | What is Hybrid Model in Machine learning| Hybrid Model NLP\n",
            "Hackathon on MachineHack and HackerEarth | Hackathon for Data Science | Data Science Hackathon\n",
            "Python Regular Expression Tutorial Part 2 | Use of Regular Expressions in Python automation and ML\n",
            "Python Regular Expression Tutorial | Python regular expression for Data Science | Python Regex\n",
            "Regular Expressions In Python | Use of Regular Expressions in Python automation and Machine Learning\n",
            "How to Overcome Rejections in Data Science | Overcoming strongly from rejection in Data science\n",
            "Lets Celebrate 15k Milestone | Thank you for the wonderful journey together| Unfold Data Science\n",
            "Understanding Curse Of Dimensionality | Curse Of Dimensionality in Machine Learning\n",
            "Python code for regularization L1 L2 | lasso and ridge regression in python\n",
            "Regularization in machine learning | L1 and L2 Regularization | Lasso and Ridge Regression\n",
            "Data Science Courses By Top Institutes | Data Science Courses In India | Best Data Science Courses\n",
            "Insurance Analytics Overview by expert | Insurance and credit information use cases in Data Science\n",
            "How to explain business benefits of Data Science Project | Data Science Project Explanation\n",
            "Python Importance In Data Science | How to learn python from scratch | Python for beginners\n",
            "How to avoid nervousness during Job Interview | 3 tips for not to be nervous in Job Interview\n",
            "Probability Vs Likelihood | Difference between Probability and Likelihood\n",
            "Hierarchical clustering Use Case In python | Hierarchical clustering example in Python\n",
            "How I present My Project In Data Science Interview | Data Science Interview Preparation Must watch💥\n",
            "Hierarchical clustering in machine learning | Agglomerative Clustering explained\n",
            "How and When to follow up after job interview | Follow up after job interview\n",
            "Interview Questions On Density Based Clustering | DBSCAN clustering Interview question\n",
            "DBSCAN Algorithm In Python | DBSCAN clustering Algorithm example| Density based clustering python\n",
            "DBSCAN Clustering explained | How DBSCAN clustering Works | Density based clustering\n",
            "Silhouette Score for clustering Explained | Silhouette (clustering)- Validating Clustering Models\n",
            "Success story of Bikram - Transition to Data Science from Other Domain\n",
            "K Means Clustering Interview Questions | Data Science Interview Questions On K means algorithm\n",
            "K Means Clustering in 15 Minutes | K means clustering explained | K means clustering in python\n",
            "Clustering intuition In Machine learning | Clustering In Data Science | Segmentation | Profiling\n",
            "Do not Do These In Online Interview | Online Interview tips | Online Interview preparation\n",
            "Lets Help India Together In Crisis | Fund Raiser for India COVID19 Crisis\n",
            "Binary Cross Entropy Explained | What is Binary Cross Entropy | Log loss function explained\n",
            "Cost Function and Loss Function in Data Science | Cost function machine learning | Regression Cost\n",
            "Generative and Discriminative Classification | Generative and Discriminative Machine Learning\n",
            "5 must watch playlist for Data Science | Unfold Data Science Playlist explanation\n",
            "Data Science Project Ideas for Any Business| Data Science Project for Beginners | Data Science\n",
            "Euclidean Manhattan and Cosine Distance | Euclidean distance vs Cosine similarity\n",
            "Improving Business acumen in Data Science | How to improve business knowledge in Data Science\n",
            "Recursive Feature Elimination Technique | Recursive feature elimination in machine learning\n",
            "40 Under 40 Data Scientist Lavi Nigam | Learn from experienced Data Scientist\n",
            "Data Leakage in Machine Learning | Understanding Data Leakage with example in machine learning\n",
            "Tailored solution example of Data Science | What is Tailored solution in Data Science\n",
            "40 Under 40 Best Data Scientist Swapnil | Data Scientist Interview| 40 under 40 data scientist 2021\n",
            "VIF Application in Python | VIF In python | Variance Inflation Factor In Python\n",
            "Variance Inflation Factor Simplified | Variance Inflation Factor in Multicollinearity | VIF\n",
            "Why multicollinearity is a problem | Why is multicollinearity bad | What is multicollinearity\n",
            "Sqoop Installation Steps | How to install Sqoop on ubuntu| Sqoop Installation on Ubuntu\n",
            "Meet Live with My Data Science Mentor - Bikram\n",
            "Being Genuine in Data Science Interview | Data Science Interview Questions | Data Science Interview\n",
            "40 Under 40 Best Data Scientist | Best Data Scientist In India | 40 under 40 Data Scientist award\n",
            "Data Science Research Scholar Interview Prakhar | Learning from Data Science Research Scholar\n",
            "Data Science Mock Interview Pratyusa | Data Science interview questions for freshers First Interview\n",
            "Parametric vs Non Parametric Machine Learning | Difference between Parametric and Non Parametric ML\n",
            "Data Science Mock Up Interview Nilesh | Data Science Interview Question and Answers\n",
            "Covariance vs Correlation with simple data | Covariance vs Correlation Coefficient\n",
            "Free Data Science Mock up Interview For Freshers | Data Science Interview Question for Freshers\n",
            "Virtual Meetup Recording Unfold Data Science | Meet up 1 Recording at Unfold Data Science\n",
            "Assumptions of Linear Regression | What are the assumptions for a linear regression model\n",
            "MySQL Installation on Ubuntu Step by Step | How to install MySQL on Ubuntu | MySQL for Ubuntu\n",
            "Meetup announcement unfold data science | Meet up unfold data science | #MeetAman\n",
            "Feedback Request by Unfold Data Science | Honest Feedback request for videos on Unfold data science\n",
            "Sqoop Hadoop Tutorial | What is sqoop in hadoop | Sqoop Architecture\n",
            "How to Evaluate a Data Science Course | Data Science Course evaluation | Best Data Science Course\n",
            "Hive Query Language Tutorial | Hive query language | HQL\n",
            "Hive Installation Demo On Ubuntu | Hive Installation On Hadoop | Hive Installation on Ubuntu 20.04\n",
            "Hive Tutorial For Beginners | Hive tutorial in Hadoop and Big Data | What is Hive in Hadoop\n",
            "Data Science Resume Tips For Freshers | Data Science Resume Building | Data Science Resume Review\n",
            "Hadoop Commands with example | Hadoop commands tutorial for beginners | Hadoop shell commands\n",
            "Hadoop Installation Guide Step by Step | How to install Hadoop on ubuntu | Installing Hadoop local\n",
            "How to make online interview successful | Online interview tips | Online interview questions answers\n",
            "Linux Command Tutorial For Beginners | Must Know Linux Commands For Data Science\n",
            "Windows vs Linux Operating System | Which operating system is best - Windows or Linux\n",
            "Installing Ubuntu VM on windows machine - step by step | How to install ubuntu on windows 10\n",
            "Pilot Project for Data Science | What is a pilot project for Data Science\n",
            "Welcome 2021 - unfold Data Science | Learning and Hope ahead | Happy new year 2021\n",
            "Situational and Behavioral Interview Questions for Data Science | situational questions data science\n",
            "Hadoop Components and Architecture Part 2 | HIVE - PIG - OOZIE - ZOOKEEPER - SPARK - SQOOP\n",
            "Hadoop Components and Architecture Part 1 | What is HDFS YARN MARREDUCE\n",
            "Big Data and Hadoop Introduction | An Introduction to Big Data and Hadoop For Data Science\n",
            "Non Technical Skills Needed in Data Science For 2021 | Data Science skills for 2021\n",
            "Data Science Skillset for 2021 | What are the skills needed for Data Scientist in 2021\n",
            "ARIMA in Python End to End | Implementing ARIMA for time series forecasting in Python\n",
            "Importance of unix and big data in Data science | Big data and Unix in Data Science\n",
            "Time Series Analysis - Step by Step | Steps to implement time series forecasting\n",
            "What is overfitting in machine learning | Understanding overfitting in machine learning\n",
            "How To Stay Competitive In Data Science For Long Run | How to stay relevant in Data Science\n",
            "5 best news letters for data science | Best news letters for data science\n",
            "Free Data Science course and certificate by IIT Kanpur | Data Science Free Course\n",
            "Find all my codes and data here | All my codes - Unfold data science\n",
            "Classical Time Series Models AR,MA,ARMA,ARIMA - Understanding time series models in python\n",
            "Is Deep Learning Needed To Get Job In Data Science | Deep Learning For getting a Job in Data Science\n",
            "Auto regression using ACF and PACF | How to decide AR order using ACF and PACF\n",
            "Is Machine Learning Subset of Deep Learning | Difference between machine learning and deep learning\n",
            "Making time series stationary In Python | How to make time series stationary in Python\n",
            "Time Series Decomposition and stationarity Check in Python | Time Series Decomposition in Python\n",
            "Limitations Of Deep Learning | What are the limitations of deep learning\n",
            "How to approach any machine learning problem | Step by Step approach for a machine learning problem\n",
            "Time series smoothing in python | moving average and exponential smoothing in python\n",
            "Time Series Exponential smoothing | Exponential smoothing in time series-must know concept\n",
            "Smooth Transition To Data Science | How to make career transition to Data Science\n",
            "Rolling statistics and stationarity in Time series | How to Check stationarity of a time series\n",
            "Time Series Analysis Overview | Basics of Time Series Forecasting| Understanding Time Series Data\n",
            "Foundation for Data Science | How to build career in data science | Data Science Career Guide\n",
            "Google Colab Tutorial for Beginners | Using google Colab for machine learning and Deep learning\n",
            "How to use Kaggle for beginners |How to use Kaggle for Data Science | How to use Kaggle\n",
            "Bias Variance Simplified |Machine Learning Fundamentals: Bias and Variance | Bias Variance Trade off\n",
            "Jupyter notebook tutorial and shortcuts | Jupyter notebook tutorial for beginners\n",
            "Data Analyst - What, How and Why | How to become a Data Analyst |Skills needed for Data Analyst\n",
            "Machine Learning Pipeline In Python | How to run pipeline in python machine learning\n",
            "Pipeline In Machine Learning | How to write pipeline in machine learning\n",
            "Python MySQL Database Connection | Python MySQL connector tutorial |Python MySQL connectivity\n",
            "MySQL Installation guide step by step|MySQL installation for windows 10\n",
            "SQL For Data Science|What Why and How of SQL in Data science|Data Science SQL for beginners\n",
            "Tuning XGBoost in Python|Running XGBoost in Python|How to run XGBoost in python\n",
            "Maths behind XGBoost|XGBoost algorithm explained with Data Step by Step\n",
            "XGBoost Overview| Overview Of XGBoost algorithm in ensemble learning\n",
            "Stacking Ensemble Learning|Stacking and Blending in ensemble machine learning\n",
            "Getting Internships In Data Science 2020|How to get internship in Data Science in 2020\n",
            "Making Cross Validation Simple|What,why and types of Cross validation\n",
            "Devops and CI CD Pipeline|What is Devops and CI CD pipeline in Data Science\n",
            "5 Best Books for Data Science(Free pdfs)|Best data science books 2020\n",
            "Agile in Data Science|Understanding agility in data science projects\n",
            "5 DON'TS for first Data Science Job|How to get first job in Data Science\n",
            "Probability density function , CDF, Normal distribution| Cumulative Distribution Function, z-score\n",
            "Random Variable, Probability Mass function, Cumulative distribution function|PMF and CDF\n",
            "Unfold Data Science Turns 1|One year journey of unfold data science\n",
            "Hypothesis testing Practical Implementation Part 2|Hypothesis testing with data example in python\n",
            "Hypothesis testing Practical Implementation|Hypothesis testing with data example in python\n",
            "Data Science Job Market Now|How to get Data Science Job|Data Science Jobs\n",
            "Anova T test Chi square When to use what|Understanding details about the hypothesis testing\n",
            "P Value and Hypothesis Testing Simplified|P-value and Hypothesis testing concepts in Statistics\n",
            "Cartoon image in deep learning|Creating cartoon image using pre trained deep learning model\n",
            "Python Word Embedding using Word2vec and keras|How to use word embedding in python\n",
            "The Art Of Google Search|5 tricks for efficient google search|How to do google search\n",
            "Word2Vec Simplified|Word2Vec explained in simple language|CBOW and Skipgrm methods in word2vec\n",
            "You Should Not be a Data Scientist If...|Who should not become a data scientist\n",
            "FP growth Vs Apriori Algorithm|FP growth tree vs Apriori algorithm in frequent pattern mining\n",
            "100th Video from Unfold Data Science (Fun and Motivation) | Unfold Data Science\n",
            "Neural network tuning in Python|Hyper parameter tuning of neural network in python\n",
            "Neural Network Optimization Key Concepts|How to optimize your neural network\n",
            "Social Media Analytics Overview|Social media analytics use cases and landscape\n",
            "GridSearchCV vs RandomizedSeachCV|Difference between Grid GridSearchCV and RandomizedSeachCV\n",
            "Adagrad and RMSProp Intuition| How Adagrad and RMSProp optimizer work in deep learning\n",
            "Keras Vs Pytorch|Keras vs Pytorch - Understanding Deep learning frameworks\n",
            "Momentum in SGD|Understanding Momentum in stochastic gradient descent\n",
            "How to present output in Data Science|Presenting output in Data Science Project\n",
            "Stochastic gradient descent explained | Stochastic gradient descent vs Gradient descent|Mini batch\n",
            "Neural Network in Python using Keras|How to implement a basic neural network in python using keras\n",
            "Data Science Projects In Marketing|Data Science projects |Marketing Analytics projects\n",
            "Weight Initialization techniques In Neural Network|How to initialize weight in a deep neural network\n",
            "Exploding Gradient and Vanishing Gradient problem in deep neural network|Deep learning tutorial\n",
            "Customer Analytics Use cases|Customer Analytics using machine learning and artificial intelligence\n",
            "Epoch in Neural Network|neural network example step by step |Neural network end to end example data\n",
            "Gradient descent simple explanation|gradient descent machine learning|gradient descent algorithm\n",
            "Free Data Sets for Data Science|8 open source data repository for Data Science\n",
            "Maths Behind Neural Network | Neural network must know mathematics\n",
            "Components of Neural Network|Neural network Weight, Bias, layers, activation\n",
            "Right Projects for Data Science Resume|How to prepare Data Science Resume\n",
            "Intuition behind neural networks|Neural network - the basics and foundation\n",
            "Understanding Word Embedding|What is Word Embedding|Word Embedding in Natural language processing\n",
            "Correct Approach for First Data Science Job|How to get first job in Data Science\n",
            "Hotel Reviews Sentiment Analysis In python|NLP Sentiment analysis in Python\n",
            "Countvectorizer and TF IDF in Python|Text feature extraction in Python\n",
            "Growing Network In Data Science - Need and Tips|How to grow network in data science\n",
            "Feature Extraction techniques from text - BOW and TF IDF|What is TF-IDF and bag of words in NLP\n",
            "Text Data Cleaning In Python | How to clean text data in python\n",
            "Product based vs Service based companies for Data Science|Data Science in product vs service based\n",
            "NLP Data Cleaning techniques|text Data cleaning techniques|How to clean text data\n",
            "NLP Data Import part 2 - Document parsing|How to parse pdf files in Python|Document parsing Python\n",
            "R or Python for Data Science|R or Python For Machine Learning|R vs Python\n",
            "NLP Data Import part 1 - Web Scraping|Web Scraping for natural language processing using python\n",
            "Natural Language Processing - What and Why|Natural Language Processing In Machine Learning|NLP\n",
            "Channel updates - Unfold Data Science |Updates for the channel Unfold Data Science - 5th April 2020\n",
            "Model Based Collaborative filtering in Python | collaborative filtering in python\n",
            "Item based collaborative filtering in Python|Collaborative filtering in Python\n",
            "COVID-19 POSITIVE Patient Data Analysis| Corona virus positive patient data analysis - INDIA\n",
            "Collaborative Filtering (Memory Based)|Item and User based collaborative filtering recommendation\n",
            "CoronaVirus Spread Forecast|Novel COVID-2019 spread analysis and forecast\n",
            "Content Based Vs Collaborative Filtering|Recommendation system content based vs collaborative filter\n",
            "Market Basket Analysis In Python|How to implement market basket analysis in Python|apriori algorithm\n",
            "Association Rule Analysis|Market Basket Analysis\n",
            "Recommendation System Machine Learning|Recommendation Engine basics In Machine Learning\n",
            "My Journey to Data Science | Aman - Unfold Data Science\n",
            "Implementing Gradient Boost In Python|Gradient Boost Python code|Gradient Boost Algorithm in Python\n",
            "Gradient Boost Machine Learning|How Gradient boost work in Machine Learning\n",
            "Implementing Ada Boost in Python|How to implement Ada-boost in python|Python Ada-Boost\n",
            "Boosting Explained-AdaBoost|Bagging vs Boosting|How Boosting and AdaBoost works\n",
            "Creating Data Stories - Step by Step|Art of Storytelling in Data Science|How to create data stories\n",
            "Art of Storytelling In Data Science|How to tell data stories|storytelling in data science\n",
            "Implementing Random Forest In Python|How to Implement Random Forest In Python|Random Forest ML\n",
            "How Random Forest Work|How Random Forest Algorithm Works|Random Forest Machine Learning\n",
            "Introduction to Ensemble learning|What is Ensemble Modelling|Understanding Ensemble Models\n",
            "Data Science Trends In 2020|Data Science Future Trends|What is Data Science Future Trend\n",
            "Implement Decision Tree in Python using sklearn|Implementing decision tree in python\n",
            "Gini Index and Entropy|Gini Index and Information gain in Decision Tree|Decision tree splitting rule\n",
            "How Decision Tree Works?|How Decision Tree Algorithm Works|Decision Tree In Machine Learning\n",
            "Artificial Intelligence vs Machine Learning vs Deep Learning vs Data Science\n",
            "How To Train a Good classification model (PART 2)|Logistic Regression In Python\n",
            "How To Train a Good Classification Model | Logistic Regression in Python\n",
            "Understanding Basics of Classification Use Case (Part 2)|Logistic regression explained\n",
            "Basics of Classification Use Case|What is classification in machine learning\n",
            "How To Learn Data Science For Free|How To Learn Data Science by Self Study and For Free\n",
            "Deployment of Machine Learning Model (Part 2)|How to deploy a machine learning model using flask\n",
            "Deployment of Machine Learning Model|How to deploy a machine learning model using flask\n",
            "Understanding R Squared From Example|R Squared clearly explained\n",
            "12 Years Old Data Scientist Officially Hired|Siddharth Srivastav Pillai|Young Data Scientist\n",
            "Implementing machine learning in Python (PART 2)|How to Implement Machine Learning In Python\n",
            "Implementing machine learning in Python|How to Implement Machine Learning In Python\n",
            "When To Use Regression|Linear Regression Analysis|Machine Learning Algorithms\n",
            "How Does Machine Learn|How Machine Learns|Understanding Machine Learning Types and Linear Regression\n",
            "5 Functions for Machine Learning and Deep Learning|Mathematics for Machine Learning\n",
            "Probability Concepts For Data Science|Statistics And Probability for Data Science|Data Science\n",
            "Calculus Concepts For Data Science|Calculus for Machine Learning|Mathematics for Data Science\n",
            "What is Variance and Standard Deviation|Measures of Dispersion|Statistics for Data Science\n",
            "Measures of Central Tendency|Statistics for Data Science|Data Science Tutorial\n",
            "How To Prepare Data For Machine Learning|Data Science Tutorial\n",
            "How to Write Loops In Python|Python Data Science Tutorial(2019)\n",
            "How To Write Function In Python|Python Data Science Tutorial (2019)\n",
            "How To Import Data in Python|Python tutorial for Data Science(2019)\n",
            "Python Packages for Data Science|Top 5 Python Libraries For Data Science|Data Science Course\n",
            "Python Basics For Data Science(Datatypes)|Python Data Science Tutorial(2019)|Python Data Science\n",
            "Data Science Interview Structure|Data Science Interview Questions|Unfold Data Science\n",
            "Data Science Interview Preparation |Data Science interview|Unfold Data Science\n",
            "Study Plan For Data Science (Part 2)|How To Lean Data Science|Unfold data Science\n",
            "Study Plan For Data Science|How To Lean Data Science|Unfold data Science\n",
            "Free Data Science resources|Data science course|Unfold Data Science\n",
            "Beginning data science (step 0) |data science checklist|Unfold Data Science\n",
            "Data Analyst vs Data Scientist | Data Analyst vs Data Scientist job| Unfold data science\n",
            "Future of data science (2019) | Data science future demand |Unfold data science\n",
            "Data Science In 15 Minutes | Data Science For Beginners | Unfold Data Science\n",
            "Machine Learning | 4 Components Of Machine Learning|(Data Science -2019) #MachineLearning\n",
            "Introduction video for unfold data science\n"
          ]
        }
      ],
      "source": [
        "for title in titles:\n",
        "    print(title)"
      ]
    },
    {
      "cell_type": "code",
      "execution_count": null,
      "id": "e1ef2c9b-2005-4048-8e99-e07bfb58e6fe",
      "metadata": {
        "id": "e1ef2c9b-2005-4048-8e99-e07bfb58e6fe",
        "outputId": "45d2291f-5898-4b7b-91f2-550b2afee091"
      },
      "outputs": [
        {
          "name": "stdout",
          "output_type": "stream",
          "text": [
            "Number of titles: 411\n"
          ]
        }
      ],
      "source": [
        "print(\"Number of titles:\",len(titles))"
      ]
    },
    {
      "cell_type": "code",
      "execution_count": null,
      "id": "b64b1121-2e08-47b5-999a-9f349926f073",
      "metadata": {
        "id": "b64b1121-2e08-47b5-999a-9f349926f073"
      },
      "outputs": [],
      "source": [
        "links = [element.get_attribute(\"href\") for element in driver.find_elements(By.XPATH,'//*[@id=\"video-title-link\"]')]"
      ]
    },
    {
      "cell_type": "code",
      "execution_count": null,
      "id": "d0b43a07-3cef-4021-a255-bce3eae8e78d",
      "metadata": {
        "id": "d0b43a07-3cef-4021-a255-bce3eae8e78d",
        "outputId": "1b1f4cea-660e-432a-879e-5bf37ef6d203"
      },
      "outputs": [
        {
          "data": {
            "text/plain": [
              "411"
            ]
          },
          "execution_count": 49,
          "metadata": {},
          "output_type": "execute_result"
        }
      ],
      "source": [
        "len(links)"
      ]
    },
    {
      "cell_type": "code",
      "execution_count": null,
      "id": "d15f475c-d5a5-4f7f-a47e-e17b7d8fe229",
      "metadata": {
        "id": "d15f475c-d5a5-4f7f-a47e-e17b7d8fe229"
      },
      "outputs": [],
      "source": [
        "comments = []\n",
        "likes = []\n",
        "i=0\n",
        "dates = []\n",
        "views = []\n",
        "for link in links:\n",
        "    driver.get(link)\n",
        "    time.sleep(4)\n",
        "    driver.execute_script(\"window.scrollTo(10,700)\")\n",
        "    time.sleep(4)\n",
        "    print(i+1)\n",
        "    i=i+1\n",
        "    number_of_comments = driver.find_elements(By.XPATH, '//*[@id=\"count\"]/yt-formatted-string')\n",
        "    like = driver.find_elements(By.XPATH, '//*[@id=\"segmented-like-button\"]/ytd-toggle-button-renderer/yt-button-shape/button/div[2]/span')\n",
        "    comments.append(number_of_comments[0].text)\n",
        "    likes.append(like[0].text)\n",
        "    driver.execute_script(\"window.scrollTo(700,10)\")\n",
        "    time.sleep(1)\n",
        "    more = driver.find_element(By.XPATH,'//*[@id=\"expand\"]')\n",
        "    more.click()\n",
        "    time.sleep(1)\n",
        "    date = driver.find_element(By.XPATH,'//*[@id=\"info\"]/span[3]')\n",
        "    view = driver.find_element(By.XPATH,'//*[@id=\"info\"]/span[1]')\n",
        "    dates.append(date.text)\n",
        "    views.append(view.text)"
      ]
    },
    {
      "cell_type": "code",
      "execution_count": null,
      "id": "1ebf5fcb-ae85-46fe-860c-8c8338f2ea62",
      "metadata": {
        "id": "1ebf5fcb-ae85-46fe-860c-8c8338f2ea62"
      },
      "outputs": [],
      "source": [
        "#Assigning dislikes now because it was not mentioned first in assignment but later asked in a question\n",
        "dislikes = []\n",
        "for i in range(0,len(titles)):\n",
        "    dislikes.append(0)"
      ]
    },
    {
      "cell_type": "code",
      "execution_count": null,
      "id": "5e71d7d2-c35f-44c5-b322-fbe24e0edb4e",
      "metadata": {
        "id": "5e71d7d2-c35f-44c5-b322-fbe24e0edb4e",
        "outputId": "c7a5cb46-2275-434a-d6b1-e2c0aabb16ac"
      },
      "outputs": [
        {
          "name": "stdout",
          "output_type": "stream",
          "text": [
            "411\n"
          ]
        }
      ],
      "source": [
        "print(len(views))"
      ]
    },
    {
      "cell_type": "code",
      "execution_count": null,
      "id": "1df2acd6-bac6-4b18-8f32-15aeb596f652",
      "metadata": {
        "id": "1df2acd6-bac6-4b18-8f32-15aeb596f652",
        "outputId": "e3f5c320-3cde-42d2-ad1a-c149884f1dca"
      },
      "outputs": [
        {
          "name": "stdout",
          "output_type": "stream",
          "text": [
            "411\n"
          ]
        }
      ],
      "source": [
        "print(len(comments))"
      ]
    },
    {
      "cell_type": "code",
      "execution_count": null,
      "id": "581cd0de-ac26-4c6e-854a-c2c5eb230a27",
      "metadata": {
        "id": "581cd0de-ac26-4c6e-854a-c2c5eb230a27",
        "outputId": "5736cc68-b7f9-46f3-a68a-056bc8eaa7e6"
      },
      "outputs": [
        {
          "name": "stdout",
          "output_type": "stream",
          "text": [
            "411\n"
          ]
        }
      ],
      "source": [
        "print(len(dates))"
      ]
    },
    {
      "cell_type": "code",
      "execution_count": null,
      "id": "08cd5eda-a5bd-4bf0-b172-59e4743d0707",
      "metadata": {
        "id": "08cd5eda-a5bd-4bf0-b172-59e4743d0707",
        "outputId": "c8839539-ba84-48be-a7f0-e1c38c265ac6"
      },
      "outputs": [
        {
          "name": "stdout",
          "output_type": "stream",
          "text": [
            "411\n"
          ]
        }
      ],
      "source": [
        "print(len(dislikes))"
      ]
    },
    {
      "cell_type": "code",
      "execution_count": null,
      "id": "e561d2df-7ac9-467b-8f21-8627febd7769",
      "metadata": {
        "id": "e561d2df-7ac9-467b-8f21-8627febd7769"
      },
      "outputs": [],
      "source": [
        "df = pd.DataFrame(columns=['Title','Views','Upload_Date','Comments','Likes','Dislikes'])"
      ]
    },
    {
      "cell_type": "code",
      "execution_count": null,
      "id": "a7f72c5f-49fe-4885-9a11-017b363de44b",
      "metadata": {
        "id": "a7f72c5f-49fe-4885-9a11-017b363de44b",
        "outputId": "62fbd093-da51-4a72-fb44-ed98fb215c8c"
      },
      "outputs": [
        {
          "data": {
            "text/html": [
              "<div>\n",
              "<style scoped>\n",
              "    .dataframe tbody tr th:only-of-type {\n",
              "        vertical-align: middle;\n",
              "    }\n",
              "\n",
              "    .dataframe tbody tr th {\n",
              "        vertical-align: top;\n",
              "    }\n",
              "\n",
              "    .dataframe thead th {\n",
              "        text-align: right;\n",
              "    }\n",
              "</style>\n",
              "<table border=\"1\" class=\"dataframe\">\n",
              "  <thead>\n",
              "    <tr style=\"text-align: right;\">\n",
              "      <th></th>\n",
              "      <th>Title</th>\n",
              "      <th>Views</th>\n",
              "      <th>Upload_Date</th>\n",
              "      <th>Comments</th>\n",
              "      <th>Likes</th>\n",
              "      <th>Dislikes</th>\n",
              "    </tr>\n",
              "  </thead>\n",
              "  <tbody>\n",
              "  </tbody>\n",
              "</table>\n",
              "</div>"
            ],
            "text/plain": [
              "Empty DataFrame\n",
              "Columns: [Title, Views, Upload_Date, Comments, Likes, Dislikes]\n",
              "Index: []"
            ]
          },
          "execution_count": 162,
          "metadata": {},
          "output_type": "execute_result"
        }
      ],
      "source": [
        "df"
      ]
    },
    {
      "cell_type": "code",
      "execution_count": null,
      "id": "a74bef01-6386-4a35-b66e-a47591c0f094",
      "metadata": {
        "id": "a74bef01-6386-4a35-b66e-a47591c0f094"
      },
      "outputs": [],
      "source": [
        "df['Title'] = titles\n",
        "df['Views'] = views\n",
        "df['Upload_Date'] = dates\n",
        "df['Comments'] = comments\n",
        "df['Likes'] = likes\n",
        "df['Dislikes'] = dislikes"
      ]
    },
    {
      "cell_type": "code",
      "execution_count": null,
      "id": "987be556-504f-4c9d-9f4a-1d331842fc19",
      "metadata": {
        "id": "987be556-504f-4c9d-9f4a-1d331842fc19",
        "outputId": "119a5124-6576-4629-efb6-5d17779655ac"
      },
      "outputs": [
        {
          "data": {
            "text/html": [
              "<div>\n",
              "<style scoped>\n",
              "    .dataframe tbody tr th:only-of-type {\n",
              "        vertical-align: middle;\n",
              "    }\n",
              "\n",
              "    .dataframe tbody tr th {\n",
              "        vertical-align: top;\n",
              "    }\n",
              "\n",
              "    .dataframe thead th {\n",
              "        text-align: right;\n",
              "    }\n",
              "</style>\n",
              "<table border=\"1\" class=\"dataframe\">\n",
              "  <thead>\n",
              "    <tr style=\"text-align: right;\">\n",
              "      <th></th>\n",
              "      <th>Title</th>\n",
              "      <th>Views</th>\n",
              "      <th>Upload_Date</th>\n",
              "      <th>Comments</th>\n",
              "      <th>Likes</th>\n",
              "      <th>Dislikes</th>\n",
              "    </tr>\n",
              "  </thead>\n",
              "  <tbody>\n",
              "    <tr>\n",
              "      <th>0</th>\n",
              "      <td>Simplifying Confidence Intervals | confidence ...</td>\n",
              "      <td>656 views</td>\n",
              "      <td>Sep 14, 2023</td>\n",
              "      <td>7 Comments</td>\n",
              "      <td>27</td>\n",
              "      <td>0</td>\n",
              "    </tr>\n",
              "    <tr>\n",
              "      <th>1</th>\n",
              "      <td>Cost of Living in London | data scientist sala...</td>\n",
              "      <td>1,334 views</td>\n",
              "      <td>Sep 6, 2023</td>\n",
              "      <td>15 Comments</td>\n",
              "      <td>50</td>\n",
              "      <td>0</td>\n",
              "    </tr>\n",
              "    <tr>\n",
              "      <th>2</th>\n",
              "      <td>6 Activation functions for deep learning | act...</td>\n",
              "      <td>1,057 views</td>\n",
              "      <td>Sep 3, 2023</td>\n",
              "      <td>10 Comments</td>\n",
              "      <td>44</td>\n",
              "      <td>0</td>\n",
              "    </tr>\n",
              "    <tr>\n",
              "      <th>3</th>\n",
              "      <td>5 python packages to wow your client | Python ...</td>\n",
              "      <td>1,463 views</td>\n",
              "      <td>Aug 24, 2023</td>\n",
              "      <td>11 Comments</td>\n",
              "      <td>70</td>\n",
              "      <td>0</td>\n",
              "    </tr>\n",
              "    <tr>\n",
              "      <th>4</th>\n",
              "      <td>Junior data scientist to Senior Data Scientist...</td>\n",
              "      <td>1,198 views</td>\n",
              "      <td>Aug 21, 2023</td>\n",
              "      <td>16 Comments</td>\n",
              "      <td>57</td>\n",
              "      <td>0</td>\n",
              "    </tr>\n",
              "    <tr>\n",
              "      <th>...</th>\n",
              "      <td>...</td>\n",
              "      <td>...</td>\n",
              "      <td>...</td>\n",
              "      <td>...</td>\n",
              "      <td>...</td>\n",
              "      <td>...</td>\n",
              "    </tr>\n",
              "    <tr>\n",
              "      <th>406</th>\n",
              "      <td>Data Analyst vs Data Scientist | Data Analyst ...</td>\n",
              "      <td>3,118 views</td>\n",
              "      <td>Sep 10, 2019</td>\n",
              "      <td>31 Comments</td>\n",
              "      <td>114</td>\n",
              "      <td>0</td>\n",
              "    </tr>\n",
              "    <tr>\n",
              "      <th>407</th>\n",
              "      <td>Future of data science (2019) | Data science f...</td>\n",
              "      <td>2,663 views</td>\n",
              "      <td>Sep 3, 2019</td>\n",
              "      <td>31 Comments</td>\n",
              "      <td>117</td>\n",
              "      <td>0</td>\n",
              "    </tr>\n",
              "    <tr>\n",
              "      <th>408</th>\n",
              "      <td>Data Science In 15 Minutes | Data Science For ...</td>\n",
              "      <td>9,972 views</td>\n",
              "      <td>Aug 20, 2019</td>\n",
              "      <td>51 Comments</td>\n",
              "      <td>284</td>\n",
              "      <td>0</td>\n",
              "    </tr>\n",
              "    <tr>\n",
              "      <th>409</th>\n",
              "      <td>Machine Learning | 4 Components Of Machine Lea...</td>\n",
              "      <td>6,271 views</td>\n",
              "      <td>Aug 9, 2019</td>\n",
              "      <td>42 Comments</td>\n",
              "      <td>239</td>\n",
              "      <td>0</td>\n",
              "    </tr>\n",
              "    <tr>\n",
              "      <th>410</th>\n",
              "      <td>Introduction video for unfold data science</td>\n",
              "      <td>1,034 views</td>\n",
              "      <td>Aug 2, 2019</td>\n",
              "      <td>14 Comments</td>\n",
              "      <td>61</td>\n",
              "      <td>0</td>\n",
              "    </tr>\n",
              "  </tbody>\n",
              "</table>\n",
              "<p>411 rows × 6 columns</p>\n",
              "</div>"
            ],
            "text/plain": [
              "                                                 Title        Views  \\\n",
              "0    Simplifying Confidence Intervals | confidence ...    656 views   \n",
              "1    Cost of Living in London | data scientist sala...  1,334 views   \n",
              "2    6 Activation functions for deep learning | act...  1,057 views   \n",
              "3    5 python packages to wow your client | Python ...  1,463 views   \n",
              "4    Junior data scientist to Senior Data Scientist...  1,198 views   \n",
              "..                                                 ...          ...   \n",
              "406  Data Analyst vs Data Scientist | Data Analyst ...  3,118 views   \n",
              "407  Future of data science (2019) | Data science f...  2,663 views   \n",
              "408  Data Science In 15 Minutes | Data Science For ...  9,972 views   \n",
              "409  Machine Learning | 4 Components Of Machine Lea...  6,271 views   \n",
              "410         Introduction video for unfold data science  1,034 views   \n",
              "\n",
              "      Upload_Date     Comments Likes  Dislikes  \n",
              "0    Sep 14, 2023   7 Comments    27         0  \n",
              "1     Sep 6, 2023  15 Comments    50         0  \n",
              "2     Sep 3, 2023  10 Comments    44         0  \n",
              "3    Aug 24, 2023  11 Comments    70         0  \n",
              "4    Aug 21, 2023  16 Comments    57         0  \n",
              "..            ...          ...   ...       ...  \n",
              "406  Sep 10, 2019  31 Comments   114         0  \n",
              "407   Sep 3, 2019  31 Comments   117         0  \n",
              "408  Aug 20, 2019  51 Comments   284         0  \n",
              "409   Aug 9, 2019  42 Comments   239         0  \n",
              "410   Aug 2, 2019  14 Comments    61         0  \n",
              "\n",
              "[411 rows x 6 columns]"
            ]
          },
          "execution_count": 170,
          "metadata": {},
          "output_type": "execute_result"
        }
      ],
      "source": [
        "df"
      ]
    },
    {
      "cell_type": "code",
      "execution_count": null,
      "id": "7def8692-4404-4faa-9a57-33f4d4e5b67c",
      "metadata": {
        "id": "7def8692-4404-4faa-9a57-33f4d4e5b67c"
      },
      "outputs": [],
      "source": [
        "df['Views'] = df['Views'].str.replace(\" views\", \"\")\n",
        "df['Views'] = df['Views'].str.replace(\",\", \"\")"
      ]
    },
    {
      "cell_type": "code",
      "execution_count": null,
      "id": "9f431429-5db7-49cf-a629-8b18e7017df6",
      "metadata": {
        "id": "9f431429-5db7-49cf-a629-8b18e7017df6",
        "outputId": "d3bc03ba-bcd5-4818-9d51-6f8f2d4dd33a"
      },
      "outputs": [
        {
          "data": {
            "text/plain": [
              "0       656\n",
              "1      1334\n",
              "2      1057\n",
              "3      1463\n",
              "4      1198\n",
              "       ... \n",
              "406    3118\n",
              "407    2663\n",
              "408    9972\n",
              "409    6271\n",
              "410    1034\n",
              "Name: Views, Length: 411, dtype: int64"
            ]
          },
          "execution_count": 172,
          "metadata": {},
          "output_type": "execute_result"
        }
      ],
      "source": [
        "df['Views'] = df['Views'].astype('int64')\n",
        "df['Views']"
      ]
    },
    {
      "cell_type": "code",
      "execution_count": null,
      "id": "d116ea87-d039-4820-bca6-3eba433a1a33",
      "metadata": {
        "id": "d116ea87-d039-4820-bca6-3eba433a1a33"
      },
      "outputs": [],
      "source": [
        "df['Comments'] = df['Comments'].str.replace(\" Comments\", \"\")"
      ]
    },
    {
      "cell_type": "code",
      "execution_count": null,
      "id": "322d3ced-0e05-42ea-bfd6-b25089137680",
      "metadata": {
        "id": "322d3ced-0e05-42ea-bfd6-b25089137680",
        "outputId": "83389d98-c971-4eea-9cb5-5f18b7aa9e60"
      },
      "outputs": [
        {
          "data": {
            "text/plain": [
              "0       7\n",
              "1      15\n",
              "2      10\n",
              "3      11\n",
              "4      16\n",
              "       ..\n",
              "406    31\n",
              "407    31\n",
              "408    51\n",
              "409    42\n",
              "410    14\n",
              "Name: Comments, Length: 411, dtype: int64"
            ]
          },
          "execution_count": 174,
          "metadata": {},
          "output_type": "execute_result"
        }
      ],
      "source": [
        "df['Comments'] = df['Comments'].astype('int64')\n",
        "df['Comments']"
      ]
    },
    {
      "cell_type": "code",
      "execution_count": null,
      "id": "334f33e5-30dc-4d04-883c-2f99ec7df68b",
      "metadata": {
        "id": "334f33e5-30dc-4d04-883c-2f99ec7df68b"
      },
      "outputs": [],
      "source": [
        "df['Likes'] = df['Likes'].str.replace(\"K\", \"000\")\n",
        "df['Likes'] = df['Likes'].str.replace(\".\", \"\")"
      ]
    },
    {
      "cell_type": "code",
      "execution_count": null,
      "id": "e6804baf-38df-44a5-861f-354dbd9f94d6",
      "metadata": {
        "id": "e6804baf-38df-44a5-861f-354dbd9f94d6"
      },
      "outputs": [],
      "source": [
        "df['Likes'] = df['Likes'].astype('int64')"
      ]
    },
    {
      "cell_type": "code",
      "execution_count": null,
      "id": "4289d2dc-4309-4c04-9a73-b568cec13aa0",
      "metadata": {
        "id": "4289d2dc-4309-4c04-9a73-b568cec13aa0",
        "outputId": "49edb3b0-c2f6-4961-8537-27d1efd6e545"
      },
      "outputs": [
        {
          "data": {
            "text/html": [
              "<div>\n",
              "<style scoped>\n",
              "    .dataframe tbody tr th:only-of-type {\n",
              "        vertical-align: middle;\n",
              "    }\n",
              "\n",
              "    .dataframe tbody tr th {\n",
              "        vertical-align: top;\n",
              "    }\n",
              "\n",
              "    .dataframe thead th {\n",
              "        text-align: right;\n",
              "    }\n",
              "</style>\n",
              "<table border=\"1\" class=\"dataframe\">\n",
              "  <thead>\n",
              "    <tr style=\"text-align: right;\">\n",
              "      <th></th>\n",
              "      <th>Title</th>\n",
              "      <th>Views</th>\n",
              "      <th>Upload_Date</th>\n",
              "      <th>Comments</th>\n",
              "      <th>Likes</th>\n",
              "      <th>Dislikes</th>\n",
              "    </tr>\n",
              "  </thead>\n",
              "  <tbody>\n",
              "    <tr>\n",
              "      <th>0</th>\n",
              "      <td>Simplifying Confidence Intervals | confidence ...</td>\n",
              "      <td>656</td>\n",
              "      <td>Sep 14, 2023</td>\n",
              "      <td>7</td>\n",
              "      <td>27</td>\n",
              "      <td>0</td>\n",
              "    </tr>\n",
              "    <tr>\n",
              "      <th>1</th>\n",
              "      <td>Cost of Living in London | data scientist sala...</td>\n",
              "      <td>1334</td>\n",
              "      <td>Sep 6, 2023</td>\n",
              "      <td>15</td>\n",
              "      <td>50</td>\n",
              "      <td>0</td>\n",
              "    </tr>\n",
              "    <tr>\n",
              "      <th>2</th>\n",
              "      <td>6 Activation functions for deep learning | act...</td>\n",
              "      <td>1057</td>\n",
              "      <td>Sep 3, 2023</td>\n",
              "      <td>10</td>\n",
              "      <td>44</td>\n",
              "      <td>0</td>\n",
              "    </tr>\n",
              "    <tr>\n",
              "      <th>3</th>\n",
              "      <td>5 python packages to wow your client | Python ...</td>\n",
              "      <td>1463</td>\n",
              "      <td>Aug 24, 2023</td>\n",
              "      <td>11</td>\n",
              "      <td>70</td>\n",
              "      <td>0</td>\n",
              "    </tr>\n",
              "    <tr>\n",
              "      <th>4</th>\n",
              "      <td>Junior data scientist to Senior Data Scientist...</td>\n",
              "      <td>1198</td>\n",
              "      <td>Aug 21, 2023</td>\n",
              "      <td>16</td>\n",
              "      <td>57</td>\n",
              "      <td>0</td>\n",
              "    </tr>\n",
              "    <tr>\n",
              "      <th>...</th>\n",
              "      <td>...</td>\n",
              "      <td>...</td>\n",
              "      <td>...</td>\n",
              "      <td>...</td>\n",
              "      <td>...</td>\n",
              "      <td>...</td>\n",
              "    </tr>\n",
              "    <tr>\n",
              "      <th>406</th>\n",
              "      <td>Data Analyst vs Data Scientist | Data Analyst ...</td>\n",
              "      <td>3118</td>\n",
              "      <td>Sep 10, 2019</td>\n",
              "      <td>31</td>\n",
              "      <td>114</td>\n",
              "      <td>0</td>\n",
              "    </tr>\n",
              "    <tr>\n",
              "      <th>407</th>\n",
              "      <td>Future of data science (2019) | Data science f...</td>\n",
              "      <td>2663</td>\n",
              "      <td>Sep 3, 2019</td>\n",
              "      <td>31</td>\n",
              "      <td>117</td>\n",
              "      <td>0</td>\n",
              "    </tr>\n",
              "    <tr>\n",
              "      <th>408</th>\n",
              "      <td>Data Science In 15 Minutes | Data Science For ...</td>\n",
              "      <td>9972</td>\n",
              "      <td>Aug 20, 2019</td>\n",
              "      <td>51</td>\n",
              "      <td>284</td>\n",
              "      <td>0</td>\n",
              "    </tr>\n",
              "    <tr>\n",
              "      <th>409</th>\n",
              "      <td>Machine Learning | 4 Components Of Machine Lea...</td>\n",
              "      <td>6271</td>\n",
              "      <td>Aug 9, 2019</td>\n",
              "      <td>42</td>\n",
              "      <td>239</td>\n",
              "      <td>0</td>\n",
              "    </tr>\n",
              "    <tr>\n",
              "      <th>410</th>\n",
              "      <td>Introduction video for unfold data science</td>\n",
              "      <td>1034</td>\n",
              "      <td>Aug 2, 2019</td>\n",
              "      <td>14</td>\n",
              "      <td>61</td>\n",
              "      <td>0</td>\n",
              "    </tr>\n",
              "  </tbody>\n",
              "</table>\n",
              "<p>411 rows × 6 columns</p>\n",
              "</div>"
            ],
            "text/plain": [
              "                                                 Title  Views   Upload_Date  \\\n",
              "0    Simplifying Confidence Intervals | confidence ...    656  Sep 14, 2023   \n",
              "1    Cost of Living in London | data scientist sala...   1334   Sep 6, 2023   \n",
              "2    6 Activation functions for deep learning | act...   1057   Sep 3, 2023   \n",
              "3    5 python packages to wow your client | Python ...   1463  Aug 24, 2023   \n",
              "4    Junior data scientist to Senior Data Scientist...   1198  Aug 21, 2023   \n",
              "..                                                 ...    ...           ...   \n",
              "406  Data Analyst vs Data Scientist | Data Analyst ...   3118  Sep 10, 2019   \n",
              "407  Future of data science (2019) | Data science f...   2663   Sep 3, 2019   \n",
              "408  Data Science In 15 Minutes | Data Science For ...   9972  Aug 20, 2019   \n",
              "409  Machine Learning | 4 Components Of Machine Lea...   6271   Aug 9, 2019   \n",
              "410         Introduction video for unfold data science   1034   Aug 2, 2019   \n",
              "\n",
              "     Comments  Likes  Dislikes  \n",
              "0           7     27         0  \n",
              "1          15     50         0  \n",
              "2          10     44         0  \n",
              "3          11     70         0  \n",
              "4          16     57         0  \n",
              "..        ...    ...       ...  \n",
              "406        31    114         0  \n",
              "407        31    117         0  \n",
              "408        51    284         0  \n",
              "409        42    239         0  \n",
              "410        14     61         0  \n",
              "\n",
              "[411 rows x 6 columns]"
            ]
          },
          "execution_count": 177,
          "metadata": {},
          "output_type": "execute_result"
        }
      ],
      "source": [
        "df"
      ]
    },
    {
      "cell_type": "code",
      "execution_count": null,
      "id": "8add01a1-eda1-43d2-9175-8f9a86d0b1e1",
      "metadata": {
        "id": "8add01a1-eda1-43d2-9175-8f9a86d0b1e1"
      },
      "outputs": [],
      "source": [
        "df['Upload_Date'] = df['Upload_Date'].str.replace(\"Premiered \",\"\")"
      ]
    },
    {
      "cell_type": "code",
      "execution_count": null,
      "id": "cc038900-6c8b-4a09-9055-bc1c8cfe729e",
      "metadata": {
        "id": "cc038900-6c8b-4a09-9055-bc1c8cfe729e"
      },
      "outputs": [],
      "source": [
        "df['Upload_Date'] = pd.to_datetime(df['Upload_Date'])"
      ]
    },
    {
      "cell_type": "code",
      "execution_count": null,
      "id": "68422847-b221-4b85-847e-1ceb03873e14",
      "metadata": {
        "id": "68422847-b221-4b85-847e-1ceb03873e14",
        "outputId": "a059eb65-23be-4560-adc6-9d0589565b43"
      },
      "outputs": [
        {
          "data": {
            "text/html": [
              "<div>\n",
              "<style scoped>\n",
              "    .dataframe tbody tr th:only-of-type {\n",
              "        vertical-align: middle;\n",
              "    }\n",
              "\n",
              "    .dataframe tbody tr th {\n",
              "        vertical-align: top;\n",
              "    }\n",
              "\n",
              "    .dataframe thead th {\n",
              "        text-align: right;\n",
              "    }\n",
              "</style>\n",
              "<table border=\"1\" class=\"dataframe\">\n",
              "  <thead>\n",
              "    <tr style=\"text-align: right;\">\n",
              "      <th></th>\n",
              "      <th>Title</th>\n",
              "      <th>Views</th>\n",
              "      <th>Upload_Date</th>\n",
              "      <th>Comments</th>\n",
              "      <th>Likes</th>\n",
              "      <th>Dislikes</th>\n",
              "    </tr>\n",
              "  </thead>\n",
              "  <tbody>\n",
              "    <tr>\n",
              "      <th>0</th>\n",
              "      <td>Simplifying Confidence Intervals | confidence ...</td>\n",
              "      <td>656</td>\n",
              "      <td>2023-09-14</td>\n",
              "      <td>7</td>\n",
              "      <td>27</td>\n",
              "      <td>0</td>\n",
              "    </tr>\n",
              "    <tr>\n",
              "      <th>1</th>\n",
              "      <td>Cost of Living in London | data scientist sala...</td>\n",
              "      <td>1334</td>\n",
              "      <td>2023-09-06</td>\n",
              "      <td>15</td>\n",
              "      <td>50</td>\n",
              "      <td>0</td>\n",
              "    </tr>\n",
              "    <tr>\n",
              "      <th>2</th>\n",
              "      <td>6 Activation functions for deep learning | act...</td>\n",
              "      <td>1057</td>\n",
              "      <td>2023-09-03</td>\n",
              "      <td>10</td>\n",
              "      <td>44</td>\n",
              "      <td>0</td>\n",
              "    </tr>\n",
              "    <tr>\n",
              "      <th>3</th>\n",
              "      <td>5 python packages to wow your client | Python ...</td>\n",
              "      <td>1463</td>\n",
              "      <td>2023-08-24</td>\n",
              "      <td>11</td>\n",
              "      <td>70</td>\n",
              "      <td>0</td>\n",
              "    </tr>\n",
              "    <tr>\n",
              "      <th>4</th>\n",
              "      <td>Junior data scientist to Senior Data Scientist...</td>\n",
              "      <td>1198</td>\n",
              "      <td>2023-08-21</td>\n",
              "      <td>16</td>\n",
              "      <td>57</td>\n",
              "      <td>0</td>\n",
              "    </tr>\n",
              "    <tr>\n",
              "      <th>...</th>\n",
              "      <td>...</td>\n",
              "      <td>...</td>\n",
              "      <td>...</td>\n",
              "      <td>...</td>\n",
              "      <td>...</td>\n",
              "      <td>...</td>\n",
              "    </tr>\n",
              "    <tr>\n",
              "      <th>406</th>\n",
              "      <td>Data Analyst vs Data Scientist | Data Analyst ...</td>\n",
              "      <td>3118</td>\n",
              "      <td>2019-09-10</td>\n",
              "      <td>31</td>\n",
              "      <td>114</td>\n",
              "      <td>0</td>\n",
              "    </tr>\n",
              "    <tr>\n",
              "      <th>407</th>\n",
              "      <td>Future of data science (2019) | Data science f...</td>\n",
              "      <td>2663</td>\n",
              "      <td>2019-09-03</td>\n",
              "      <td>31</td>\n",
              "      <td>117</td>\n",
              "      <td>0</td>\n",
              "    </tr>\n",
              "    <tr>\n",
              "      <th>408</th>\n",
              "      <td>Data Science In 15 Minutes | Data Science For ...</td>\n",
              "      <td>9972</td>\n",
              "      <td>2019-08-20</td>\n",
              "      <td>51</td>\n",
              "      <td>284</td>\n",
              "      <td>0</td>\n",
              "    </tr>\n",
              "    <tr>\n",
              "      <th>409</th>\n",
              "      <td>Machine Learning | 4 Components Of Machine Lea...</td>\n",
              "      <td>6271</td>\n",
              "      <td>2019-08-09</td>\n",
              "      <td>42</td>\n",
              "      <td>239</td>\n",
              "      <td>0</td>\n",
              "    </tr>\n",
              "    <tr>\n",
              "      <th>410</th>\n",
              "      <td>Introduction video for unfold data science</td>\n",
              "      <td>1034</td>\n",
              "      <td>2019-08-02</td>\n",
              "      <td>14</td>\n",
              "      <td>61</td>\n",
              "      <td>0</td>\n",
              "    </tr>\n",
              "  </tbody>\n",
              "</table>\n",
              "<p>411 rows × 6 columns</p>\n",
              "</div>"
            ],
            "text/plain": [
              "                                                 Title  Views Upload_Date  \\\n",
              "0    Simplifying Confidence Intervals | confidence ...    656  2023-09-14   \n",
              "1    Cost of Living in London | data scientist sala...   1334  2023-09-06   \n",
              "2    6 Activation functions for deep learning | act...   1057  2023-09-03   \n",
              "3    5 python packages to wow your client | Python ...   1463  2023-08-24   \n",
              "4    Junior data scientist to Senior Data Scientist...   1198  2023-08-21   \n",
              "..                                                 ...    ...         ...   \n",
              "406  Data Analyst vs Data Scientist | Data Analyst ...   3118  2019-09-10   \n",
              "407  Future of data science (2019) | Data science f...   2663  2019-09-03   \n",
              "408  Data Science In 15 Minutes | Data Science For ...   9972  2019-08-20   \n",
              "409  Machine Learning | 4 Components Of Machine Lea...   6271  2019-08-09   \n",
              "410         Introduction video for unfold data science   1034  2019-08-02   \n",
              "\n",
              "     Comments  Likes  Dislikes  \n",
              "0           7     27         0  \n",
              "1          15     50         0  \n",
              "2          10     44         0  \n",
              "3          11     70         0  \n",
              "4          16     57         0  \n",
              "..        ...    ...       ...  \n",
              "406        31    114         0  \n",
              "407        31    117         0  \n",
              "408        51    284         0  \n",
              "409        42    239         0  \n",
              "410        14     61         0  \n",
              "\n",
              "[411 rows x 6 columns]"
            ]
          },
          "execution_count": 180,
          "metadata": {},
          "output_type": "execute_result"
        }
      ],
      "source": [
        "df"
      ]
    },
    {
      "cell_type": "code",
      "execution_count": null,
      "id": "664838df-35c1-446f-a538-c3dca28ed9db",
      "metadata": {
        "id": "664838df-35c1-446f-a538-c3dca28ed9db"
      },
      "outputs": [],
      "source": [
        "df.to_csv(\"youtube_data.csv\")"
      ]
    },
    {
      "cell_type": "code",
      "execution_count": null,
      "id": "6b379823-13e7-42c1-9e0c-8ede504a6496",
      "metadata": {
        "id": "6b379823-13e7-42c1-9e0c-8ede504a6496"
      },
      "outputs": [],
      "source": [
        "df = pd.read_csv(\"youtube_data.csv\");"
      ]
    },
    {
      "cell_type": "code",
      "execution_count": null,
      "id": "3b4c6829-b0ab-4f3c-a801-29108e75335d",
      "metadata": {
        "id": "3b4c6829-b0ab-4f3c-a801-29108e75335d"
      },
      "outputs": [],
      "source": [
        "df = pd.DataFrame(df.drop((['Unnamed: 0.1']), axis=1))\n",
        "df['Upload_Date'] = pd.to_datetime(df['Upload_Date'])"
      ]
    },
    {
      "cell_type": "code",
      "execution_count": null,
      "id": "70db7d7f-688b-4bed-9e55-d685968e5d77",
      "metadata": {
        "id": "70db7d7f-688b-4bed-9e55-d685968e5d77"
      },
      "outputs": [],
      "source": [
        "df = df[(df['Upload_Date'] <= pd.to_datetime('2023-09-10')) & (df['Upload_Date'] >= pd.to_datetime('2019-09-10'))]"
      ]
    },
    {
      "cell_type": "code",
      "execution_count": null,
      "id": "298e186c-ff9b-430e-9428-42513382a7fc",
      "metadata": {
        "id": "298e186c-ff9b-430e-9428-42513382a7fc",
        "outputId": "838fc6c9-033a-48cf-a814-7d425c8419d6"
      },
      "outputs": [
        {
          "data": {
            "text/plain": [
              "Title          0\n",
              "Views          0\n",
              "Upload_Date    0\n",
              "Comments       0\n",
              "Likes          0\n",
              "dtype: int64"
            ]
          },
          "execution_count": 11,
          "metadata": {},
          "output_type": "execute_result"
        }
      ],
      "source": [
        "df.isna().sum()"
      ]
    },
    {
      "cell_type": "code",
      "execution_count": null,
      "id": "a465dd09-c61b-47f8-a503-1617bce972cf",
      "metadata": {
        "id": "a465dd09-c61b-47f8-a503-1617bce972cf",
        "outputId": "133aea32-a71b-44a5-86d0-a3b411689e1b"
      },
      "outputs": [
        {
          "data": {
            "text/html": [
              "<div>\n",
              "<style scoped>\n",
              "    .dataframe tbody tr th:only-of-type {\n",
              "        vertical-align: middle;\n",
              "    }\n",
              "\n",
              "    .dataframe tbody tr th {\n",
              "        vertical-align: top;\n",
              "    }\n",
              "\n",
              "    .dataframe thead th {\n",
              "        text-align: right;\n",
              "    }\n",
              "</style>\n",
              "<table border=\"1\" class=\"dataframe\">\n",
              "  <thead>\n",
              "    <tr style=\"text-align: right;\">\n",
              "      <th></th>\n",
              "      <th>Views</th>\n",
              "      <th>Upload_Date</th>\n",
              "      <th>Comments</th>\n",
              "      <th>Likes</th>\n",
              "    </tr>\n",
              "  </thead>\n",
              "  <tbody>\n",
              "    <tr>\n",
              "      <th>count</th>\n",
              "      <td>406.000000</td>\n",
              "      <td>406</td>\n",
              "      <td>406.000000</td>\n",
              "      <td>406.000000</td>\n",
              "    </tr>\n",
              "    <tr>\n",
              "      <th>mean</th>\n",
              "      <td>10752.985222</td>\n",
              "      <td>2021-06-29 14:28:57.931034368</td>\n",
              "      <td>44.147783</td>\n",
              "      <td>1199.194581</td>\n",
              "    </tr>\n",
              "    <tr>\n",
              "      <th>min</th>\n",
              "      <td>155.000000</td>\n",
              "      <td>2019-09-10 00:00:00</td>\n",
              "      <td>2.000000</td>\n",
              "      <td>13.000000</td>\n",
              "    </tr>\n",
              "    <tr>\n",
              "      <th>25%</th>\n",
              "      <td>1242.250000</td>\n",
              "      <td>2020-08-01 06:00:00</td>\n",
              "      <td>14.000000</td>\n",
              "      <td>56.000000</td>\n",
              "    </tr>\n",
              "    <tr>\n",
              "      <th>50%</th>\n",
              "      <td>3564.000000</td>\n",
              "      <td>2021-05-19 00:00:00</td>\n",
              "      <td>24.000000</td>\n",
              "      <td>125.000000</td>\n",
              "    </tr>\n",
              "    <tr>\n",
              "      <th>75%</th>\n",
              "      <td>11476.250000</td>\n",
              "      <td>2022-04-25 12:00:00</td>\n",
              "      <td>47.750000</td>\n",
              "      <td>310.750000</td>\n",
              "    </tr>\n",
              "    <tr>\n",
              "      <th>max</th>\n",
              "      <td>170916.000000</td>\n",
              "      <td>2023-09-06 00:00:00</td>\n",
              "      <td>430.000000</td>\n",
              "      <td>49000.000000</td>\n",
              "    </tr>\n",
              "    <tr>\n",
              "      <th>std</th>\n",
              "      <td>19194.238235</td>\n",
              "      <td>NaN</td>\n",
              "      <td>59.276651</td>\n",
              "      <td>4841.436129</td>\n",
              "    </tr>\n",
              "  </tbody>\n",
              "</table>\n",
              "</div>"
            ],
            "text/plain": [
              "               Views                    Upload_Date    Comments         Likes\n",
              "count     406.000000                            406  406.000000    406.000000\n",
              "mean    10752.985222  2021-06-29 14:28:57.931034368   44.147783   1199.194581\n",
              "min       155.000000            2019-09-10 00:00:00    2.000000     13.000000\n",
              "25%      1242.250000            2020-08-01 06:00:00   14.000000     56.000000\n",
              "50%      3564.000000            2021-05-19 00:00:00   24.000000    125.000000\n",
              "75%     11476.250000            2022-04-25 12:00:00   47.750000    310.750000\n",
              "max    170916.000000            2023-09-06 00:00:00  430.000000  49000.000000\n",
              "std     19194.238235                            NaN   59.276651   4841.436129"
            ]
          },
          "execution_count": 12,
          "metadata": {},
          "output_type": "execute_result"
        }
      ],
      "source": [
        "df.describe()"
      ]
    },
    {
      "cell_type": "code",
      "execution_count": null,
      "id": "95527abd-5ed9-4c73-b4d6-13b961b8463c",
      "metadata": {
        "id": "95527abd-5ed9-4c73-b4d6-13b961b8463c",
        "outputId": "28fef83e-d075-4c55-ecd7-6677fe444e82"
      },
      "outputs": [
        {
          "name": "stdout",
          "output_type": "stream",
          "text": [
            "<class 'pandas.core.frame.DataFrame'>\n",
            "RangeIndex: 406 entries, 0 to 405\n",
            "Data columns (total 5 columns):\n",
            " #   Column       Non-Null Count  Dtype         \n",
            "---  ------       --------------  -----         \n",
            " 0   Title        406 non-null    object        \n",
            " 1   Views        406 non-null    int64         \n",
            " 2   Upload_Date  406 non-null    datetime64[ns]\n",
            " 3   Comments     406 non-null    int64         \n",
            " 4   Likes        406 non-null    int64         \n",
            "dtypes: datetime64[ns](1), int64(3), object(1)\n",
            "memory usage: 16.0+ KB\n"
          ]
        }
      ],
      "source": [
        "df.info()"
      ]
    },
    {
      "cell_type": "code",
      "execution_count": null,
      "id": "c1d75304-d8d9-446f-86f6-7abd64314ce2",
      "metadata": {
        "id": "c1d75304-d8d9-446f-86f6-7abd64314ce2"
      },
      "outputs": [],
      "source": [
        "def avg_views_30_days(df):\n",
        "    current_date = datetime.datetime.now()\n",
        "    thirty_days_ago = current_date - datetime.timedelta(days=30)\n",
        "    relevant_videos = df[df['Upload_Date'] >= thirty_days_ago]\n",
        "    avg_views = relevant_videos['Views'].mean()\n",
        "    return round(avg_views,3)"
      ]
    },
    {
      "cell_type": "code",
      "execution_count": null,
      "id": "5869e572-16a0-4f3d-9c12-33fe1888c32d",
      "metadata": {
        "id": "5869e572-16a0-4f3d-9c12-33fe1888c32d",
        "outputId": "fb8f031e-b5ac-4520-bd48-6059945c1cea"
      },
      "outputs": [
        {
          "name": "stdout",
          "output_type": "stream",
          "text": [
            "Average views count per video in the last 30 days:  1284.667\n"
          ]
        }
      ],
      "source": [
        "print(\"Average views count per video in the last 30 days: \",avg_views_30_days(df))"
      ]
    },
    {
      "cell_type": "code",
      "execution_count": null,
      "id": "ce5d0820-efad-4acc-a1ec-fb749f91fd73",
      "metadata": {
        "id": "ce5d0820-efad-4acc-a1ec-fb749f91fd73"
      },
      "outputs": [],
      "source": [
        "def LikesToViewsRatio(df):\n",
        "    df['Ratio'] = round(df['Likes']/df['Views'],5)\n",
        "    max = df['Ratio'].max()\n",
        "    title = df[df['Ratio']==max]\n",
        "    return title"
      ]
    },
    {
      "cell_type": "code",
      "execution_count": null,
      "id": "1ed6b4b1-a17e-4585-b962-d9f0e7fa01ec",
      "metadata": {
        "id": "1ed6b4b1-a17e-4585-b962-d9f0e7fa01ec",
        "outputId": "e008df92-1d9c-4b2c-9e8d-162a1c6cd948"
      },
      "outputs": [
        {
          "data": {
            "text/html": [
              "<div>\n",
              "<style scoped>\n",
              "    .dataframe tbody tr th:only-of-type {\n",
              "        vertical-align: middle;\n",
              "    }\n",
              "\n",
              "    .dataframe tbody tr th {\n",
              "        vertical-align: top;\n",
              "    }\n",
              "\n",
              "    .dataframe thead th {\n",
              "        text-align: right;\n",
              "    }\n",
              "</style>\n",
              "<table border=\"1\" class=\"dataframe\">\n",
              "  <thead>\n",
              "    <tr style=\"text-align: right;\">\n",
              "      <th></th>\n",
              "      <th>Title</th>\n",
              "      <th>Views</th>\n",
              "      <th>Upload_Date</th>\n",
              "      <th>Comments</th>\n",
              "      <th>Likes</th>\n",
              "      <th>Ratio</th>\n",
              "    </tr>\n",
              "  </thead>\n",
              "  <tbody>\n",
              "    <tr>\n",
              "      <th>196</th>\n",
              "      <td>How I present My Project In Data Science Inter...</td>\n",
              "      <td>22260</td>\n",
              "      <td>2021-06-05</td>\n",
              "      <td>81</td>\n",
              "      <td>11000</td>\n",
              "      <td>0.49416</td>\n",
              "    </tr>\n",
              "  </tbody>\n",
              "</table>\n",
              "</div>"
            ],
            "text/plain": [
              "                                                 Title  Views Upload_Date  \\\n",
              "196  How I present My Project In Data Science Inter...  22260  2021-06-05   \n",
              "\n",
              "     Comments  Likes    Ratio  \n",
              "196        81  11000  0.49416  "
            ]
          },
          "execution_count": 17,
          "metadata": {},
          "output_type": "execute_result"
        }
      ],
      "source": [
        "LikesToViewsRatio(df)"
      ]
    },
    {
      "cell_type": "code",
      "execution_count": null,
      "id": "3c570676-a540-4dc7-a4e7-b692b245d802",
      "metadata": {
        "id": "3c570676-a540-4dc7-a4e7-b692b245d802"
      },
      "outputs": [],
      "source": [
        "def correlation_likes_comments(df):\n",
        "    corr = df['Likes'].corr(df['Comments'])\n",
        "    return round(corr,4)"
      ]
    },
    {
      "cell_type": "code",
      "execution_count": null,
      "id": "38f9ce6e-2780-4eea-815e-00be5c0958a8",
      "metadata": {
        "id": "38f9ce6e-2780-4eea-815e-00be5c0958a8",
        "outputId": "ac4a531c-4ae5-4d94-9369-b51217becf1c"
      },
      "outputs": [
        {
          "name": "stdout",
          "output_type": "stream",
          "text": [
            "Correlation between the number of likes and the number of comments: 0.7815\n"
          ]
        }
      ],
      "source": [
        "print(\"Correlation between the number of likes and the number of comments:\",correlation_likes_comments(df))"
      ]
    },
    {
      "cell_type": "code",
      "execution_count": null,
      "id": "16f89a72-dd99-4e9f-b91b-4b5fbfed43b0",
      "metadata": {
        "id": "16f89a72-dd99-4e9f-b91b-4b5fbfed43b0",
        "outputId": "1723d399-298c-442a-fcaf-1b444ba408ef"
      },
      "outputs": [
        {
          "name": "stdout",
          "output_type": "stream",
          "text": [
            "The most common day for video uploads is Tuesday.\n"
          ]
        }
      ],
      "source": [
        "def MostCommonDay(df):\n",
        "    df['day_of_week'] = df['Upload_Date'].dt.weekday\n",
        "\n",
        "    day_counts = df['day_of_week'].value_counts()\n",
        "\n",
        "    most_common_day = day_counts.idxmax()\n",
        "\n",
        "    day_mapping = {\n",
        "        0: 'Monday',\n",
        "        1: 'Tuesday',\n",
        "        2: 'Wednesday',\n",
        "        3: 'Thursday',\n",
        "        4: 'Friday',\n",
        "        5: 'Saturday',\n",
        "        6: 'Sunday'\n",
        "    }\n",
        "    most_common_day_name = day_mapping[most_common_day]\n",
        "    return most_common_day_name\n",
        "\n",
        "print(f\"The most common day for video uploads is {MostCommonDay(df)}.\")"
      ]
    },
    {
      "cell_type": "code",
      "execution_count": null,
      "id": "593cadae-2c22-400e-9287-ad83a776e184",
      "metadata": {
        "id": "593cadae-2c22-400e-9287-ad83a776e184"
      },
      "outputs": [],
      "source": [
        "def find_outliers_IQR(df):\n",
        "\n",
        "   q1=df.quantile(0.25)\n",
        "\n",
        "   q3=df.quantile(0.75)\n",
        "   IQR=q3-q1\n",
        "   outliers = df[((df<(q1-1.5*IQR)) | (df>(q3+1.5*IQR)))]\n",
        "\n",
        "   return outliers\n",
        "\n",
        "def impute_outliers_IQR(df):\n",
        "\n",
        "   q1=df.quantile(0.25)\n",
        "\n",
        "   q3=df.quantile(0.75)\n",
        "\n",
        "   IQR=q3-q1\n",
        "\n",
        "   upper = df[~(df>(q3+1.5*IQR))].max()\n",
        "\n",
        "   lower = df[~(df<(q1-1.5*IQR))].min()\n",
        "\n",
        "   df = np.where(df > upper,\n",
        "\n",
        "       df.mean(),\n",
        "\n",
        "       np.where(\n",
        "\n",
        "           df < lower,\n",
        "\n",
        "           df.mean(),\n",
        "\n",
        "           df\n",
        "\n",
        "           )\n",
        "\n",
        "       )\n",
        "\n",
        "\n",
        "   return pd.Series(df)"
      ]
    },
    {
      "cell_type": "code",
      "execution_count": null,
      "id": "80ef649a-76b6-4315-a657-972fd4ab3a81",
      "metadata": {
        "id": "80ef649a-76b6-4315-a657-972fd4ab3a81",
        "outputId": "548aacd7-5ed3-4d47-d80a-af10e6467408"
      },
      "outputs": [
        {
          "name": "stdout",
          "output_type": "stream",
          "text": [
            "Number of outliers in views count: 43\n"
          ]
        }
      ],
      "source": [
        "outliers = find_outliers_IQR(df['Views'])\n",
        "print(\"Number of outliers in views count:\",len(outliers))"
      ]
    }
  ],
  "metadata": {
    "colab": {
      "provenance": []
    },
    "kernelspec": {
      "display_name": "Python 3 (ipykernel)",
      "language": "python",
      "name": "python3"
    },
    "language_info": {
      "codemirror_mode": {
        "name": "ipython",
        "version": 3
      },
      "file_extension": ".py",
      "mimetype": "text/x-python",
      "name": "python",
      "nbconvert_exporter": "python",
      "pygments_lexer": "ipython3",
      "version": "3.11.4"
    }
  },
  "nbformat": 4,
  "nbformat_minor": 5
}