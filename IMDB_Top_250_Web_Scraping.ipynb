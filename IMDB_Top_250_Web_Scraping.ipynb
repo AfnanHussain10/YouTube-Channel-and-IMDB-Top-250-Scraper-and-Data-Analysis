{
  "cells": [
    {
      "cell_type": "markdown",
      "id": "043675df-70fe-4157-b813-f2d2c458b498",
      "metadata": {
        "id": "043675df-70fe-4157-b813-f2d2c458b498"
      },
      "source": [
        "# **IMDB Top 250 Web Scraping**"
      ]
    },
    {
      "cell_type": "code",
      "execution_count": null,
      "id": "03d7c315-1da1-4f04-b21d-d6be7cccd6a6",
      "metadata": {
        "id": "03d7c315-1da1-4f04-b21d-d6be7cccd6a6"
      },
      "outputs": [],
      "source": [
        "import requests\n",
        "from bs4 import BeautifulSoup\n",
        "import time\n",
        "import pandas as pd\n",
        "import numpy as np\n",
        "import datetime\n",
        "import os\n",
        "from selenium.webdriver.common.by import By\n",
        "from selenium import webdriver\n",
        "from selenium.webdriver.chrome.service import Service\n",
        "from selenium.webdriver.chrome.options import Options"
      ]
    },
    {
      "cell_type": "code",
      "execution_count": null,
      "id": "c90f86db-2caa-4567-81be-8885be9fc9ad",
      "metadata": {
        "id": "c90f86db-2caa-4567-81be-8885be9fc9ad"
      },
      "outputs": [],
      "source": [
        "url = \"https://www.imdb.com/\""
      ]
    },
    {
      "cell_type": "code",
      "execution_count": null,
      "id": "32401377-89f1-4655-aa38-6b5c8e65b4b1",
      "metadata": {
        "id": "32401377-89f1-4655-aa38-6b5c8e65b4b1"
      },
      "outputs": [],
      "source": [
        "Driver_path = \"C:\\\\Users\\\\afnan\\\\Downloads\\\\chromedriver.exe\"\n",
        "service = Service(Driver_path)\n",
        "driver = webdriver.Chrome(service=service)"
      ]
    },
    {
      "cell_type": "code",
      "execution_count": null,
      "id": "6065d1e5-cef9-41a8-b0f3-0d50c20cc7c0",
      "metadata": {
        "id": "6065d1e5-cef9-41a8-b0f3-0d50c20cc7c0"
      },
      "outputs": [],
      "source": [
        "driver.get(url)"
      ]
    },
    {
      "cell_type": "code",
      "execution_count": null,
      "id": "06134acd-2f1e-4aaf-9fc5-e95ea5a5ee18",
      "metadata": {
        "id": "06134acd-2f1e-4aaf-9fc5-e95ea5a5ee18"
      },
      "outputs": [],
      "source": [
        "temp = driver.find_element(By.XPATH,'//*[@id=\"imdbHeader-navDrawerOpen\"]')\n",
        "temp.click()"
      ]
    },
    {
      "cell_type": "code",
      "execution_count": null,
      "id": "579547ee-08ab-45cc-89be-a3261d04765b",
      "metadata": {
        "id": "579547ee-08ab-45cc-89be-a3261d04765b"
      },
      "outputs": [],
      "source": [
        "top_250_movies = driver.find_element(By.XPATH,'//*[@id=\"imdbHeader\"]/div[2]/aside[1]/div/div[2]/div/div[1]/span/div/div/ul/a[2]/span')\n",
        "top_250_movies.click()"
      ]
    },
    {
      "cell_type": "code",
      "execution_count": null,
      "id": "dabe1080-dff5-44d4-a09c-5d21adb21fea",
      "metadata": {
        "id": "dabe1080-dff5-44d4-a09c-5d21adb21fea"
      },
      "outputs": [],
      "source": [
        "sort_by = driver.find_element(By.XPATH,'//*[@id=\"sort-by-selector\"]/option[4]')\n",
        "sort_by.click()"
      ]
    },
    {
      "cell_type": "code",
      "execution_count": null,
      "id": "c703dc76-02c0-4a84-8d82-5a921801d8b4",
      "metadata": {
        "id": "c703dc76-02c0-4a84-8d82-5a921801d8b4"
      },
      "outputs": [],
      "source": [
        "info_links = []\n",
        "for i in range(1,251):\n",
        "    page = driver.find_element(By.XPATH, value= f'//*[@id=\"__next\"]/main/div/div[3]/section/div/div[2]/div/ul/li[{i}]/div[3]')\n",
        "    info_links.append(page)"
      ]
    },
    {
      "cell_type": "code",
      "execution_count": null,
      "id": "c74bc3a2-4d89-4e0b-83b8-fe4a6e3d6336",
      "metadata": {
        "id": "c74bc3a2-4d89-4e0b-83b8-fe4a6e3d6336",
        "outputId": "0b37c59d-42c5-49b8-b8fc-a9b7f0c71850"
      },
      "outputs": [
        {
          "name": "stdout",
          "output_type": "stream",
          "text": [
            "Oppenheimer\n",
            "Spider-Man: Across the Spider-Verse\n",
            "Top Gun: Maverick\n",
            "Spider-Man: No Way Home\n",
            "Jai Bhim\n",
            "Hamilton\n",
            "The Father\n",
            "1917\n",
            "Klaus\n",
            "Joker\n",
            "Ford v Ferrari\n",
            "Parasite\n",
            "Avengers: Endgame\n",
            "Spider-Man: Into the Spider-Verse\n",
            "Green Book\n",
            "Capernaum\n",
            "Avengers: Infinity War\n",
            "Coco\n",
            "Three Billboards Outside Ebbing, Missouri\n",
            "Logan\n",
            "Dangal\n",
            "Hacksaw Ridge\n",
            "Your Name.\n",
            "The Handmaiden\n",
            "Room\n",
            "Spotlight\n",
            "Inside Out\n",
            "Mad Max: Fury Road\n",
            "Interstellar\n",
            "Gone Girl\n",
            "Wild Tales\n",
            "The Grand Budapest Hotel\n",
            "Whiplash\n",
            "The Wolf of Wall Street\n",
            "Rush\n",
            "Prisoners\n",
            "12 Years a Slave\n"
          ]
        }
      ],
      "source": [
        "cross_button_xpath = '/html/body/div[4]/div[2]/div/div[1]/button'\n",
        "\n",
        "next_scroll = 120\n",
        "previous_scroll = 0\n",
        "\n",
        "titles = []\n",
        "release_year = []\n",
        "directors = []\n",
        "genres = []\n",
        "ratings = []\n",
        "\n",
        "for i in info_links:\n",
        "    i.click()\n",
        "    time.sleep(2)\n",
        "    page = driver.find_element(By.XPATH,'/html/body/div[4]/div[2]/div/div[2]/div/div')\n",
        "    soup = BeautifulSoup(page.get_attribute(\"outerHTML\"), 'html.parser')\n",
        "    year = soup.find('li',class_='ipc-inline-list__item')\n",
        "    year = year.get_text()\n",
        "    if year >= '2013':\n",
        "        title = soup.find('h3',class_='ipc-title__text prompt-title-text')\n",
        "        title = title.get_text()\n",
        "\n",
        "        temp = soup.find('ul',{'data-testid':'btp_gl'})\n",
        "        genre = temp.find('li',class_='ipc-inline-list__item')\n",
        "        genre = genre.get_text()\n",
        "\n",
        "        temp = soup.find('div',{'data-testid':'btp_rt'})\n",
        "        rating = temp.find('span',class_='ipc-rating-star ipc-rating-star--baseAlt ipc-rating-star--imdb btp_rt_ds')\n",
        "        rating = rating.get_text()\n",
        "\n",
        "        temp = soup.find('div',{'data-testid':'p_ct_dr'})\n",
        "        director = temp.find('li', class_='ipc-inline-list__item')\n",
        "        director = director.get_text()\n",
        "\n",
        "        titles.append(title)\n",
        "        release_year.append(year)\n",
        "        directors.append(director)\n",
        "        genres.append(genre)\n",
        "        ratings.append(rating)\n",
        "\n",
        "\n",
        "        print(title)\n",
        "        cross = driver.find_element(By.XPATH,cross_button_xpath)\n",
        "        cross.click()\n",
        "        driver.execute_script(f\"window.scrollTo({previous_scroll},{next_scroll})\")\n",
        "        time.sleep(1)\n",
        "        previous_scroll = next_scroll\n",
        "        next_scroll = next_scroll+110\n",
        "    else:\n",
        "        break"
      ]
    },
    {
      "cell_type": "code",
      "execution_count": null,
      "id": "1ca57b99-d1b4-4760-9136-30769d7c6796",
      "metadata": {
        "id": "1ca57b99-d1b4-4760-9136-30769d7c6796"
      },
      "outputs": [],
      "source": [
        "driver.close()"
      ]
    },
    {
      "cell_type": "code",
      "execution_count": null,
      "id": "9bf02a43-7f4a-4ed9-9734-607c10cfb50c",
      "metadata": {
        "id": "9bf02a43-7f4a-4ed9-9734-607c10cfb50c"
      },
      "outputs": [],
      "source": [
        "df = pd.DataFrame(columns = ['Title','Genre','Rating','ReleaseYear','Director'])"
      ]
    },
    {
      "cell_type": "code",
      "execution_count": null,
      "id": "56a52758-ce50-470b-bd28-3e87edbec4ee",
      "metadata": {
        "id": "56a52758-ce50-470b-bd28-3e87edbec4ee",
        "outputId": "c9475efc-bf59-4cc5-abcf-38bb6c8cc592"
      },
      "outputs": [
        {
          "data": {
            "text/html": [
              "<div>\n",
              "<style scoped>\n",
              "    .dataframe tbody tr th:only-of-type {\n",
              "        vertical-align: middle;\n",
              "    }\n",
              "\n",
              "    .dataframe tbody tr th {\n",
              "        vertical-align: top;\n",
              "    }\n",
              "\n",
              "    .dataframe thead th {\n",
              "        text-align: right;\n",
              "    }\n",
              "</style>\n",
              "<table border=\"1\" class=\"dataframe\">\n",
              "  <thead>\n",
              "    <tr style=\"text-align: right;\">\n",
              "      <th></th>\n",
              "      <th>Title</th>\n",
              "      <th>Genre</th>\n",
              "      <th>Rating</th>\n",
              "      <th>ReleaseYear</th>\n",
              "      <th>Director</th>\n",
              "    </tr>\n",
              "  </thead>\n",
              "  <tbody>\n",
              "    <tr>\n",
              "      <th>0</th>\n",
              "      <td>Oppenheimer</td>\n",
              "      <td>Biography</td>\n",
              "      <td>8.6/10</td>\n",
              "      <td>2023</td>\n",
              "      <td>Christopher Nolan</td>\n",
              "    </tr>\n",
              "    <tr>\n",
              "      <th>1</th>\n",
              "      <td>Spider-Man: Across the Spider-Verse</td>\n",
              "      <td>Animation</td>\n",
              "      <td>8.7/10</td>\n",
              "      <td>2023</td>\n",
              "      <td>Joaquim Dos Santos</td>\n",
              "    </tr>\n",
              "    <tr>\n",
              "      <th>2</th>\n",
              "      <td>Top Gun: Maverick</td>\n",
              "      <td>Action</td>\n",
              "      <td>8.3/10</td>\n",
              "      <td>2022</td>\n",
              "      <td>Joseph Kosinski</td>\n",
              "    </tr>\n",
              "    <tr>\n",
              "      <th>3</th>\n",
              "      <td>Spider-Man: No Way Home</td>\n",
              "      <td>Action</td>\n",
              "      <td>8.2/10</td>\n",
              "      <td>2021</td>\n",
              "      <td>Jon Watts</td>\n",
              "    </tr>\n",
              "    <tr>\n",
              "      <th>4</th>\n",
              "      <td>Jai Bhim</td>\n",
              "      <td>Crime</td>\n",
              "      <td>8.8/10</td>\n",
              "      <td>2021</td>\n",
              "      <td>T.J. Gnanavel</td>\n",
              "    </tr>\n",
              "    <tr>\n",
              "      <th>5</th>\n",
              "      <td>Hamilton</td>\n",
              "      <td>Biography</td>\n",
              "      <td>8.3/10</td>\n",
              "      <td>2020</td>\n",
              "      <td>Thomas Kail</td>\n",
              "    </tr>\n",
              "    <tr>\n",
              "      <th>6</th>\n",
              "      <td>The Father</td>\n",
              "      <td>Drama</td>\n",
              "      <td>8.2/10</td>\n",
              "      <td>2020</td>\n",
              "      <td>Florian Zeller</td>\n",
              "    </tr>\n",
              "    <tr>\n",
              "      <th>7</th>\n",
              "      <td>1917</td>\n",
              "      <td>Action</td>\n",
              "      <td>8.2/10</td>\n",
              "      <td>2019</td>\n",
              "      <td>Sam Mendes</td>\n",
              "    </tr>\n",
              "    <tr>\n",
              "      <th>8</th>\n",
              "      <td>Klaus</td>\n",
              "      <td>Animation</td>\n",
              "      <td>8.2/10</td>\n",
              "      <td>2019</td>\n",
              "      <td>Sergio Pablos</td>\n",
              "    </tr>\n",
              "    <tr>\n",
              "      <th>9</th>\n",
              "      <td>Joker</td>\n",
              "      <td>Crime</td>\n",
              "      <td>8.4/10</td>\n",
              "      <td>2019</td>\n",
              "      <td>Todd Phillips</td>\n",
              "    </tr>\n",
              "    <tr>\n",
              "      <th>10</th>\n",
              "      <td>Ford v Ferrari</td>\n",
              "      <td>Action</td>\n",
              "      <td>8.1/10</td>\n",
              "      <td>2019</td>\n",
              "      <td>James Mangold</td>\n",
              "    </tr>\n",
              "    <tr>\n",
              "      <th>11</th>\n",
              "      <td>Parasite</td>\n",
              "      <td>Drama</td>\n",
              "      <td>8.5/10</td>\n",
              "      <td>2019</td>\n",
              "      <td>Bong Joon Ho</td>\n",
              "    </tr>\n",
              "    <tr>\n",
              "      <th>12</th>\n",
              "      <td>Avengers: Endgame</td>\n",
              "      <td>Action</td>\n",
              "      <td>8.4/10</td>\n",
              "      <td>2019</td>\n",
              "      <td>Anthony Russo</td>\n",
              "    </tr>\n",
              "    <tr>\n",
              "      <th>13</th>\n",
              "      <td>Spider-Man: Into the Spider-Verse</td>\n",
              "      <td>Animation</td>\n",
              "      <td>8.4/10</td>\n",
              "      <td>2018</td>\n",
              "      <td>Bob Persichetti</td>\n",
              "    </tr>\n",
              "    <tr>\n",
              "      <th>14</th>\n",
              "      <td>Green Book</td>\n",
              "      <td>Biography</td>\n",
              "      <td>8.2/10</td>\n",
              "      <td>2018</td>\n",
              "      <td>Peter Farrelly</td>\n",
              "    </tr>\n",
              "    <tr>\n",
              "      <th>15</th>\n",
              "      <td>Capernaum</td>\n",
              "      <td>Drama</td>\n",
              "      <td>8.4/10</td>\n",
              "      <td>2018</td>\n",
              "      <td>Nadine Labaki</td>\n",
              "    </tr>\n",
              "    <tr>\n",
              "      <th>16</th>\n",
              "      <td>Avengers: Infinity War</td>\n",
              "      <td>Action</td>\n",
              "      <td>8.4/10</td>\n",
              "      <td>2018</td>\n",
              "      <td>Anthony Russo</td>\n",
              "    </tr>\n",
              "    <tr>\n",
              "      <th>17</th>\n",
              "      <td>Coco</td>\n",
              "      <td>Animation</td>\n",
              "      <td>8.4/10</td>\n",
              "      <td>2017</td>\n",
              "      <td>Lee Unkrich</td>\n",
              "    </tr>\n",
              "    <tr>\n",
              "      <th>18</th>\n",
              "      <td>Three Billboards Outside Ebbing, Missouri</td>\n",
              "      <td>Comedy</td>\n",
              "      <td>8.1/10</td>\n",
              "      <td>2017</td>\n",
              "      <td>Martin McDonagh</td>\n",
              "    </tr>\n",
              "    <tr>\n",
              "      <th>19</th>\n",
              "      <td>Logan</td>\n",
              "      <td>Action</td>\n",
              "      <td>8.1/10</td>\n",
              "      <td>2017</td>\n",
              "      <td>James Mangold</td>\n",
              "    </tr>\n",
              "    <tr>\n",
              "      <th>20</th>\n",
              "      <td>Dangal</td>\n",
              "      <td>Action</td>\n",
              "      <td>8.3/10</td>\n",
              "      <td>2016</td>\n",
              "      <td>Nitesh Tiwari</td>\n",
              "    </tr>\n",
              "    <tr>\n",
              "      <th>21</th>\n",
              "      <td>Hacksaw Ridge</td>\n",
              "      <td>Biography</td>\n",
              "      <td>8.1/10</td>\n",
              "      <td>2016</td>\n",
              "      <td>Mel Gibson</td>\n",
              "    </tr>\n",
              "    <tr>\n",
              "      <th>22</th>\n",
              "      <td>Your Name.</td>\n",
              "      <td>Animation</td>\n",
              "      <td>8.4/10</td>\n",
              "      <td>2016</td>\n",
              "      <td>Makoto Shinkai</td>\n",
              "    </tr>\n",
              "    <tr>\n",
              "      <th>23</th>\n",
              "      <td>The Handmaiden</td>\n",
              "      <td>Drama</td>\n",
              "      <td>8.1/10</td>\n",
              "      <td>2016</td>\n",
              "      <td>Park Chan-wook</td>\n",
              "    </tr>\n",
              "    <tr>\n",
              "      <th>24</th>\n",
              "      <td>Room</td>\n",
              "      <td>Drama</td>\n",
              "      <td>8.1/10</td>\n",
              "      <td>2015</td>\n",
              "      <td>Lenny Abrahamson</td>\n",
              "    </tr>\n",
              "    <tr>\n",
              "      <th>25</th>\n",
              "      <td>Spotlight</td>\n",
              "      <td>Biography</td>\n",
              "      <td>8.1/10</td>\n",
              "      <td>2015</td>\n",
              "      <td>Tom McCarthy</td>\n",
              "    </tr>\n",
              "    <tr>\n",
              "      <th>26</th>\n",
              "      <td>Inside Out</td>\n",
              "      <td>Animation</td>\n",
              "      <td>8.1/10</td>\n",
              "      <td>2015</td>\n",
              "      <td>Pete Docter</td>\n",
              "    </tr>\n",
              "    <tr>\n",
              "      <th>27</th>\n",
              "      <td>Mad Max: Fury Road</td>\n",
              "      <td>Action</td>\n",
              "      <td>8.1/10</td>\n",
              "      <td>2015</td>\n",
              "      <td>George Miller</td>\n",
              "    </tr>\n",
              "    <tr>\n",
              "      <th>28</th>\n",
              "      <td>Interstellar</td>\n",
              "      <td>Adventure</td>\n",
              "      <td>8.7/10</td>\n",
              "      <td>2014</td>\n",
              "      <td>Christopher Nolan</td>\n",
              "    </tr>\n",
              "    <tr>\n",
              "      <th>29</th>\n",
              "      <td>Gone Girl</td>\n",
              "      <td>Drama</td>\n",
              "      <td>8.1/10</td>\n",
              "      <td>2014</td>\n",
              "      <td>David Fincher</td>\n",
              "    </tr>\n",
              "    <tr>\n",
              "      <th>30</th>\n",
              "      <td>Wild Tales</td>\n",
              "      <td>Comedy</td>\n",
              "      <td>8.1/10</td>\n",
              "      <td>2014</td>\n",
              "      <td>Damián Szifron</td>\n",
              "    </tr>\n",
              "    <tr>\n",
              "      <th>31</th>\n",
              "      <td>The Grand Budapest Hotel</td>\n",
              "      <td>Adventure</td>\n",
              "      <td>8.1/10</td>\n",
              "      <td>2014</td>\n",
              "      <td>Wes Anderson</td>\n",
              "    </tr>\n",
              "    <tr>\n",
              "      <th>32</th>\n",
              "      <td>Whiplash</td>\n",
              "      <td>Drama</td>\n",
              "      <td>8.5/10</td>\n",
              "      <td>2014</td>\n",
              "      <td>Damien Chazelle</td>\n",
              "    </tr>\n",
              "    <tr>\n",
              "      <th>33</th>\n",
              "      <td>The Wolf of Wall Street</td>\n",
              "      <td>Biography</td>\n",
              "      <td>8.2/10</td>\n",
              "      <td>2013</td>\n",
              "      <td>Martin Scorsese</td>\n",
              "    </tr>\n",
              "    <tr>\n",
              "      <th>34</th>\n",
              "      <td>Rush</td>\n",
              "      <td>Action</td>\n",
              "      <td>8.1/10</td>\n",
              "      <td>2013</td>\n",
              "      <td>Ron Howard</td>\n",
              "    </tr>\n",
              "    <tr>\n",
              "      <th>35</th>\n",
              "      <td>Prisoners</td>\n",
              "      <td>Crime</td>\n",
              "      <td>8.1/10</td>\n",
              "      <td>2013</td>\n",
              "      <td>Denis Villeneuve</td>\n",
              "    </tr>\n",
              "    <tr>\n",
              "      <th>36</th>\n",
              "      <td>12 Years a Slave</td>\n",
              "      <td>Biography</td>\n",
              "      <td>8.1/10</td>\n",
              "      <td>2013</td>\n",
              "      <td>Steve McQueen</td>\n",
              "    </tr>\n",
              "  </tbody>\n",
              "</table>\n",
              "</div>"
            ],
            "text/plain": [
              "                                        Title      Genre  Rating ReleaseYear  \\\n",
              "0                                 Oppenheimer  Biography  8.6/10        2023   \n",
              "1         Spider-Man: Across the Spider-Verse  Animation  8.7/10        2023   \n",
              "2                           Top Gun: Maverick     Action  8.3/10        2022   \n",
              "3                     Spider-Man: No Way Home     Action  8.2/10        2021   \n",
              "4                                    Jai Bhim      Crime  8.8/10        2021   \n",
              "5                                    Hamilton  Biography  8.3/10        2020   \n",
              "6                                  The Father      Drama  8.2/10        2020   \n",
              "7                                        1917     Action  8.2/10        2019   \n",
              "8                                       Klaus  Animation  8.2/10        2019   \n",
              "9                                       Joker      Crime  8.4/10        2019   \n",
              "10                             Ford v Ferrari     Action  8.1/10        2019   \n",
              "11                                   Parasite      Drama  8.5/10        2019   \n",
              "12                          Avengers: Endgame     Action  8.4/10        2019   \n",
              "13          Spider-Man: Into the Spider-Verse  Animation  8.4/10        2018   \n",
              "14                                 Green Book  Biography  8.2/10        2018   \n",
              "15                                  Capernaum      Drama  8.4/10        2018   \n",
              "16                     Avengers: Infinity War     Action  8.4/10        2018   \n",
              "17                                       Coco  Animation  8.4/10        2017   \n",
              "18  Three Billboards Outside Ebbing, Missouri     Comedy  8.1/10        2017   \n",
              "19                                      Logan     Action  8.1/10        2017   \n",
              "20                                     Dangal     Action  8.3/10        2016   \n",
              "21                              Hacksaw Ridge  Biography  8.1/10        2016   \n",
              "22                                 Your Name.  Animation  8.4/10        2016   \n",
              "23                             The Handmaiden      Drama  8.1/10        2016   \n",
              "24                                       Room      Drama  8.1/10        2015   \n",
              "25                                  Spotlight  Biography  8.1/10        2015   \n",
              "26                                 Inside Out  Animation  8.1/10        2015   \n",
              "27                         Mad Max: Fury Road     Action  8.1/10        2015   \n",
              "28                               Interstellar  Adventure  8.7/10        2014   \n",
              "29                                  Gone Girl      Drama  8.1/10        2014   \n",
              "30                                 Wild Tales     Comedy  8.1/10        2014   \n",
              "31                   The Grand Budapest Hotel  Adventure  8.1/10        2014   \n",
              "32                                   Whiplash      Drama  8.5/10        2014   \n",
              "33                    The Wolf of Wall Street  Biography  8.2/10        2013   \n",
              "34                                       Rush     Action  8.1/10        2013   \n",
              "35                                  Prisoners      Crime  8.1/10        2013   \n",
              "36                           12 Years a Slave  Biography  8.1/10        2013   \n",
              "\n",
              "              Director  \n",
              "0    Christopher Nolan  \n",
              "1   Joaquim Dos Santos  \n",
              "2      Joseph Kosinski  \n",
              "3            Jon Watts  \n",
              "4        T.J. Gnanavel  \n",
              "5          Thomas Kail  \n",
              "6       Florian Zeller  \n",
              "7           Sam Mendes  \n",
              "8        Sergio Pablos  \n",
              "9        Todd Phillips  \n",
              "10       James Mangold  \n",
              "11        Bong Joon Ho  \n",
              "12       Anthony Russo  \n",
              "13     Bob Persichetti  \n",
              "14      Peter Farrelly  \n",
              "15       Nadine Labaki  \n",
              "16       Anthony Russo  \n",
              "17         Lee Unkrich  \n",
              "18     Martin McDonagh  \n",
              "19       James Mangold  \n",
              "20       Nitesh Tiwari  \n",
              "21          Mel Gibson  \n",
              "22      Makoto Shinkai  \n",
              "23      Park Chan-wook  \n",
              "24    Lenny Abrahamson  \n",
              "25        Tom McCarthy  \n",
              "26         Pete Docter  \n",
              "27       George Miller  \n",
              "28   Christopher Nolan  \n",
              "29       David Fincher  \n",
              "30      Damián Szifron  \n",
              "31        Wes Anderson  \n",
              "32     Damien Chazelle  \n",
              "33     Martin Scorsese  \n",
              "34          Ron Howard  \n",
              "35    Denis Villeneuve  \n",
              "36       Steve McQueen  "
            ]
          },
          "execution_count": 17,
          "metadata": {},
          "output_type": "execute_result"
        }
      ],
      "source": [
        "df['Title'] = titles\n",
        "df['Genre'] = genres\n",
        "df['Rating'] = ratings\n",
        "df['ReleaseYear'] = release_year\n",
        "df['Director'] = directors\n",
        "df"
      ]
    },
    {
      "cell_type": "code",
      "execution_count": null,
      "id": "0bf8b28c-3c79-4ca5-bc18-b4ba9840bcc2",
      "metadata": {
        "id": "0bf8b28c-3c79-4ca5-bc18-b4ba9840bcc2"
      },
      "outputs": [],
      "source": [
        "df['Rating'] = df['Rating'].str.replace('/10','')\n",
        "df['Rating'] = df['Rating'].astype('float64')"
      ]
    },
    {
      "cell_type": "code",
      "execution_count": null,
      "id": "28fe41ee-a760-4bd7-b5c6-9ce7598a40de",
      "metadata": {
        "id": "28fe41ee-a760-4bd7-b5c6-9ce7598a40de",
        "outputId": "4588f5ca-1131-488d-cd57-6cdc8d39bb28"
      },
      "outputs": [
        {
          "data": {
            "text/html": [
              "<div>\n",
              "<style scoped>\n",
              "    .dataframe tbody tr th:only-of-type {\n",
              "        vertical-align: middle;\n",
              "    }\n",
              "\n",
              "    .dataframe tbody tr th {\n",
              "        vertical-align: top;\n",
              "    }\n",
              "\n",
              "    .dataframe thead th {\n",
              "        text-align: right;\n",
              "    }\n",
              "</style>\n",
              "<table border=\"1\" class=\"dataframe\">\n",
              "  <thead>\n",
              "    <tr style=\"text-align: right;\">\n",
              "      <th></th>\n",
              "      <th>Title</th>\n",
              "      <th>Genre</th>\n",
              "      <th>Rating</th>\n",
              "      <th>ReleaseYear</th>\n",
              "      <th>Director</th>\n",
              "    </tr>\n",
              "  </thead>\n",
              "  <tbody>\n",
              "    <tr>\n",
              "      <th>0</th>\n",
              "      <td>Oppenheimer</td>\n",
              "      <td>Biography</td>\n",
              "      <td>8.6</td>\n",
              "      <td>2023</td>\n",
              "      <td>Christopher Nolan</td>\n",
              "    </tr>\n",
              "    <tr>\n",
              "      <th>1</th>\n",
              "      <td>Spider-Man: Across the Spider-Verse</td>\n",
              "      <td>Animation</td>\n",
              "      <td>8.7</td>\n",
              "      <td>2023</td>\n",
              "      <td>Joaquim Dos Santos</td>\n",
              "    </tr>\n",
              "    <tr>\n",
              "      <th>2</th>\n",
              "      <td>Top Gun: Maverick</td>\n",
              "      <td>Action</td>\n",
              "      <td>8.3</td>\n",
              "      <td>2022</td>\n",
              "      <td>Joseph Kosinski</td>\n",
              "    </tr>\n",
              "    <tr>\n",
              "      <th>3</th>\n",
              "      <td>Spider-Man: No Way Home</td>\n",
              "      <td>Action</td>\n",
              "      <td>8.2</td>\n",
              "      <td>2021</td>\n",
              "      <td>Jon Watts</td>\n",
              "    </tr>\n",
              "    <tr>\n",
              "      <th>4</th>\n",
              "      <td>Jai Bhim</td>\n",
              "      <td>Crime</td>\n",
              "      <td>8.8</td>\n",
              "      <td>2021</td>\n",
              "      <td>T.J. Gnanavel</td>\n",
              "    </tr>\n",
              "  </tbody>\n",
              "</table>\n",
              "</div>"
            ],
            "text/plain": [
              "                                 Title      Genre  Rating  ReleaseYear  \\\n",
              "0                          Oppenheimer  Biography     8.6         2023   \n",
              "1  Spider-Man: Across the Spider-Verse  Animation     8.7         2023   \n",
              "2                    Top Gun: Maverick     Action     8.3         2022   \n",
              "3              Spider-Man: No Way Home     Action     8.2         2021   \n",
              "4                             Jai Bhim      Crime     8.8         2021   \n",
              "\n",
              "             Director  \n",
              "0   Christopher Nolan  \n",
              "1  Joaquim Dos Santos  \n",
              "2     Joseph Kosinski  \n",
              "3           Jon Watts  \n",
              "4       T.J. Gnanavel  "
            ]
          },
          "execution_count": 19,
          "metadata": {},
          "output_type": "execute_result"
        }
      ],
      "source": [
        "df['ReleaseYear'] = df['ReleaseYear'].astype('int64')\n",
        "df.head(5)"
      ]
    },
    {
      "cell_type": "code",
      "execution_count": null,
      "id": "4d52add4-962e-4e88-ab4e-866a03e7c833",
      "metadata": {
        "id": "4d52add4-962e-4e88-ab4e-866a03e7c833"
      },
      "outputs": [],
      "source": [
        "df.to_csv('imdb_scrapped_data.csv')"
      ]
    },
    {
      "cell_type": "code",
      "execution_count": null,
      "id": "56cd24e6-9e8b-4d6b-aecc-1c2810be2035",
      "metadata": {
        "id": "56cd24e6-9e8b-4d6b-aecc-1c2810be2035"
      },
      "outputs": [],
      "source": [
        "def average_rating(df):\n",
        "    return round(df['Rating'].mean(),3)"
      ]
    },
    {
      "cell_type": "code",
      "execution_count": null,
      "id": "72dbaf4e-031b-4b56-ab87-2bbfef6a8d6c",
      "metadata": {
        "id": "72dbaf4e-031b-4b56-ab87-2bbfef6a8d6c",
        "outputId": "5bd17d72-b01d-47b4-d387-91c4b48ec13c"
      },
      "outputs": [
        {
          "name": "stdout",
          "output_type": "stream",
          "text": [
            "Average IMDb rating for the top-rated movies: 8.276\n"
          ]
        }
      ],
      "source": [
        "print(\"Average IMDb rating for the top-rated movies:\", average_rating(df))"
      ]
    },
    {
      "cell_type": "code",
      "execution_count": null,
      "id": "24ac57f3-c178-40bd-89bd-93a893242475",
      "metadata": {
        "id": "24ac57f3-c178-40bd-89bd-93a893242475"
      },
      "outputs": [],
      "source": [
        "def common_genre(df):\n",
        "    genre = df['Genre'].mode().tolist()\n",
        "    return genre[0]"
      ]
    },
    {
      "cell_type": "code",
      "execution_count": null,
      "id": "c67fd897-19b0-4caa-8924-e9b0a00afc56",
      "metadata": {
        "id": "c67fd897-19b0-4caa-8924-e9b0a00afc56",
        "outputId": "bce7358e-69b5-46c0-d308-f146fb8a54e7"
      },
      "outputs": [
        {
          "name": "stdout",
          "output_type": "stream",
          "text": [
            "The most common genre among the top-rated movies: Action\n"
          ]
        }
      ],
      "source": [
        "print(\"The most common genre among the top-rated movies:\", common_genre(df))"
      ]
    },
    {
      "cell_type": "code",
      "execution_count": null,
      "id": "0502e524-0926-4744-8f62-1b327f4fff8f",
      "metadata": {
        "id": "0502e524-0926-4744-8f62-1b327f4fff8f"
      },
      "outputs": [],
      "source": [
        "def average_highest_rating_director(df):\n",
        "    grouped_data = df.groupby('Director')['Rating'].mean()\n",
        "    max_rating = grouped_data.max()\n",
        "    director_with_max_rating = grouped_data[grouped_data == max_rating].index.tolist()\n",
        "    return director_with_max_rating[0]"
      ]
    },
    {
      "cell_type": "code",
      "execution_count": null,
      "id": "48909433-9c11-450c-ab1b-24e6ae15f8f0",
      "metadata": {
        "id": "48909433-9c11-450c-ab1b-24e6ae15f8f0",
        "outputId": "2645d247-45d2-4c54-8ccb-0e5fce6997e2"
      },
      "outputs": [
        {
          "name": "stdout",
          "output_type": "stream",
          "text": [
            "Identify the director with the highest average IMDb rating: T.J. Gnanavel\n"
          ]
        }
      ],
      "source": [
        "print(\"Identify the director with the highest average IMDb rating:\",average_highest_rating_director(df))"
      ]
    },
    {
      "cell_type": "code",
      "execution_count": null,
      "id": "0fc05df6-92c2-4000-9a39-f1d41ddd9812",
      "metadata": {
        "id": "0fc05df6-92c2-4000-9a39-f1d41ddd9812"
      },
      "outputs": [],
      "source": [
        "def year_highest_rating(df):\n",
        "    grouped_data = df.groupby('ReleaseYear')['Rating'].count()\n",
        "    max = grouped_data.max()\n",
        "    year_with_max_rating = grouped_data[grouped_data == max].index.tolist()\n",
        "    return year_with_max_rating[0]"
      ]
    },
    {
      "cell_type": "code",
      "execution_count": null,
      "id": "d8807125-46b7-4e0a-9389-ee4fa71d26dd",
      "metadata": {
        "id": "d8807125-46b7-4e0a-9389-ee4fa71d26dd",
        "outputId": "f058da1f-dd59-4f5a-eff1-5ebe3ba8bddf"
      },
      "outputs": [
        {
          "name": "stdout",
          "output_type": "stream",
          "text": [
            "The year with the highest number of top-rated movies: 2019\n"
          ]
        }
      ],
      "source": [
        "print(\"The year with the highest number of top-rated movies:\",year_highest_rating(df))"
      ]
    }
  ],
  "metadata": {
    "kernelspec": {
      "display_name": "Python 3 (ipykernel)",
      "language": "python",
      "name": "python3"
    },
    "language_info": {
      "codemirror_mode": {
        "name": "ipython",
        "version": 3
      },
      "file_extension": ".py",
      "mimetype": "text/x-python",
      "name": "python",
      "nbconvert_exporter": "python",
      "pygments_lexer": "ipython3",
      "version": "3.11.4"
    },
    "colab": {
      "provenance": []
    }
  },
  "nbformat": 4,
  "nbformat_minor": 5
}